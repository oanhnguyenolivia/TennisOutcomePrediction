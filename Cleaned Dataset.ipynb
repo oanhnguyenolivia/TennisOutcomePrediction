{
 "cells": [
  {
   "cell_type": "code",
   "execution_count": 2,
   "metadata": {},
   "outputs": [],
   "source": [
    "import pandas as pd\n",
    "import numpy as np\n",
    "import os\n",
    "from sklearn.linear_model import LogisticRegression\n",
    "import matplotlib.pyplot as plt\n",
    "\n",
    "from sklearn.metrics import log_loss, accuracy_score\n",
    "from skopt import gp_minimize\n",
    "from skopt.space import Real, Integer\n",
    "from skopt.utils import use_named_args\n",
    "\n",
    "def read_atp_data(years):\n",
    "    \"\"\"\n",
    "    Reads ATP matches data from CSV files for the specified years.\n",
    "\n",
    "    Args:\n",
    "        years (list or range): A list or range of years to read data for.\n",
    "\n",
    "    Returns:\n",
    "        pandas.DataFrame: A combined DataFrame containing all the data from the specified years.\n",
    "    \"\"\"\n",
    "    data = []\n",
    "    for year in years:\n",
    "        # Check for Excel file with .xls extension\n",
    "        xls_file_path = f\"{year}.xls\"\n",
    "        if os.path.exists(xls_file_path):\n",
    "            df = pd.read_excel(xls_file_path)\n",
    "            data.append(df)\n",
    "            continue\n",
    "\n",
    "        # Check for Excel file with .xlsx extension\n",
    "        xlsx_file_path = f\"{year}.xlsx\"\n",
    "        if os.path.exists(xlsx_file_path):\n",
    "            df = pd.read_excel(xlsx_file_path)\n",
    "            data.append(df)\n",
    "            continue\n",
    "\n",
    "        # If the file is not found\n",
    "        print(f\"File not found: {xls_file_path}, or {xlsx_file_path}\")\n",
    "\n",
    "    if data:\n",
    "        combined_data = pd.concat(data, ignore_index=True)\n",
    "        return combined_data\n",
    "    else:\n",
    "        return None"
   ]
  },
  {
   "cell_type": "code",
   "execution_count": 3,
   "metadata": {},
   "outputs": [],
   "source": [
    "def compute_point_difference(df):\n",
    "    df.rename(columns={\n",
    "        'Winner': 'winner_name',\n",
    "        'Loser': 'loser_name',\n",
    "        'WRank': 'winner_rank',\n",
    "        'LRank': 'loser_rank',\n",
    "        'WPts': 'winner_rank_points',\n",
    "        'LPts': 'loser_rank_points',\n",
    "        'Date': 'tourney_date'\n",
    "    }, inplace=True)\n",
    "    df[\"loser_rank\"] = df[\"loser_rank\"].fillna(100000)\n",
    "    df[\"winner_rank\"] = df[\"winner_rank\"].fillna(100000)\n",
    "\n",
    "    df[\"higher_rank_points\"] = np.where(df[\"winner_rank\"] < df[\"loser_rank\"], df[\"winner_rank_points\"], df[\"loser_rank_points\"])\n",
    "    df[\"lower_rank_points\"] = np.where(df[\"winner_rank\"] < df[\"loser_rank\"], df[\"loser_rank_points\"], df[\"winner_rank_points\"])\n",
    "    \n",
    "    df[\"point_difference\"] = df[\"higher_rank_points\"] - df[\"lower_rank_points\"]\n",
    "    df[\"higher_rank_won\"] = df[\"winner_rank\"] < df[\"loser_rank\"]\n",
    "    df.dropna(inplace=True, subset=[\"point_difference\"])\n",
    "    df = df[~df['Comment'].isin(['Retired', 'Walkover'])]\n",
    "    return df"
   ]
  },
  {
   "cell_type": "code",
   "execution_count": 4,
   "metadata": {},
   "outputs": [],
   "source": [
    "def accuracy(pred, actual):\n",
    "    return np.mean(pred == actual)\n",
    "\n",
    "def calibration(prob, actual):\n",
    "    return np.mean(prob) / np.mean(actual)\n",
    "\n",
    "def log_loss(prob, actual):\n",
    "    return -np.mean(actual * np.log(prob) + (1 - actual) * np.log(1 - prob))\n",
    "\n",
    "def validation_stats_calculate(df):\n",
    "    acc = accuracy(df[\"pred\"], df[\"actual\"])\n",
    "    calib = calibration(df[\"prob\"], df[\"actual\"])\n",
    "    ll = log_loss(df[\"prob\"], df[\"actual\"])\n",
    "    return {\"accuracy\": acc, \"calibration\": calib, \"log_loss\": ll}\n",
    "\n",
    "def validation_stats(df, model_name=None):\n",
    "    stats = validation_stats_calculate(df)\n",
    "    print(f\"{model_name}\")\n",
    "    print(f\" - Accuracy: {stats['accuracy']:.4f}\")\n",
    "    print(f\" - Calibration: {stats['calibration']:.4f}\")\n",
    "    print(f\" - Log Loss: {stats['log_loss']:.4f}\")\n",
    "    print(\"--------------------------------------\")\n",
    "    return stats\n",
    "\n",
    "def make_predictions(df):\n",
    "    df[\"pred\"] = df[\"prob\"] > 0.5\n",
    "    return df"
   ]
  },
  {
   "cell_type": "code",
   "execution_count": 5,
   "metadata": {},
   "outputs": [],
   "source": [
    "def get_elo_prob(elo1, elo2):\n",
    "    return 1 / (1 + 10 ** ((elo2 - elo1) / 400))"
   ]
  },
  {
   "cell_type": "code",
   "execution_count": 6,
   "metadata": {},
   "outputs": [],
   "source": [
    "def update_elo(winner_elo, loser_elo, k_func, winner_matches, loser_matches):\n",
    "    prob = get_elo_prob(winner_elo, loser_elo)\n",
    "    k_winner = k_func(winner_matches)\n",
    "    k_loser = k_func(loser_matches)\n",
    "    winner_elo += k_winner * (1 - prob)\n",
    "    loser_elo += k_loser * (0 - (1 - prob))\n",
    "    return winner_elo, loser_elo"
   ]
  },
  {
   "cell_type": "code",
   "execution_count": 7,
   "metadata": {},
   "outputs": [],
   "source": [
    "def implement_elo(df, k_func):\n",
    "    elo_ratings = {}\n",
    "    matches_played = {}\n",
    "    df_elo = df.copy()\n",
    "\n",
    "    for index, row in df.iterrows():\n",
    "        winner = row[\"winner_name\"]\n",
    "        loser = row[\"loser_name\"]\n",
    "        winner_elo = elo_ratings.get(winner, 1500)\n",
    "        loser_elo = elo_ratings.get(loser, 1500)\n",
    "        winner_matches = matches_played.get(winner, 0)\n",
    "        loser_matches = matches_played.get(loser, 0)\n",
    "\n",
    "        winner_new_elo, loser_new_elo = update_elo(winner_elo, loser_elo, k_func, winner_matches, loser_matches)\n",
    "\n",
    "        elo_ratings[winner] = winner_new_elo\n",
    "        elo_ratings[loser] = loser_new_elo\n",
    "        matches_played[winner] = winner_matches + 1\n",
    "        matches_played[loser] = loser_matches + 1\n",
    "\n",
    "        df_elo.at[index, \"elo_prob\"] = get_elo_prob(winner_new_elo, loser_new_elo)\n",
    "        df_elo.at[index, \"winner_elo_before_game\"] = winner_elo\n",
    "        df_elo.at[index, \"loser_elo_before_game\"] = loser_elo\n",
    "\n",
    "    return df_elo, elo_ratings"
   ]
  },
  {
   "cell_type": "code",
   "execution_count": 8,
   "metadata": {},
   "outputs": [],
   "source": [
    "def get_bcm_probabilities(df):\n",
    "    def implied_prob(row, bookie):\n",
    "        alpha_w = row[f\"{bookie}W\"]\n",
    "        beta_l = row[f\"{bookie}L\"]\n",
    "        return beta_l / (alpha_w + beta_l)\n",
    "    \n",
    "    bookmakers = [\"B365\", \"PS\"]\n",
    "    implied_probs_winner = []\n",
    "    implied_probs_loser = []\n",
    "    \n",
    "    for _, row in df.iterrows():\n",
    "        probs_winner = [implied_prob(row, bookie) for bookie in bookmakers]\n",
    "        probs_loser = [1 - prob for prob in probs_winner]\n",
    "        implied_probs_winner.append(probs_winner)\n",
    "        implied_probs_loser.append(probs_loser)\n",
    "    \n",
    "    df[\"implied_prob_winner\"] = np.mean(implied_probs_winner, axis=1)\n",
    "    df[\"implied_prob_loser\"] = np.mean(implied_probs_loser, axis=1)\n",
    "\n",
    "    df[\"implied_prob_winner_norm\"] = df[\"implied_prob_winner\"] / (df[\"implied_prob_winner\"] + df[\"implied_prob_loser\"])\n",
    "    df[\"implied_prob_loser_norm\"] = df[\"implied_prob_loser\"] / (df[\"implied_prob_winner\"] + df[\"implied_prob_loser\"])\n",
    "\n",
    "    df[\"bcm_prob\"] = df[\"implied_prob_winner_norm\"]\n",
    "    return df"
   ]
  },
  {
   "cell_type": "code",
   "execution_count": 9,
   "metadata": {},
   "outputs": [
    {
     "name": "stderr",
     "output_type": "stream",
     "text": [
      "/Users/oanh/.pyenv/versions/3.10.0/lib/python3.10/site-packages/openpyxl/worksheet/_reader.py:329: UserWarning: Unknown extension is not supported and will be removed\n",
      "  warn(msg)\n",
      "/Users/oanh/.pyenv/versions/3.10.0/lib/python3.10/site-packages/openpyxl/worksheet/_reader.py:329: UserWarning: Unknown extension is not supported and will be removed\n",
      "  warn(msg)\n",
      "/Users/oanh/.pyenv/versions/3.10.0/lib/python3.10/site-packages/openpyxl/worksheet/_reader.py:329: UserWarning: Unknown extension is not supported and will be removed\n",
      "  warn(msg)\n",
      "/Users/oanh/.pyenv/versions/3.10.0/lib/python3.10/site-packages/openpyxl/worksheet/_reader.py:329: UserWarning: Unknown extension is not supported and will be removed\n",
      "  warn(msg)\n"
     ]
    }
   ],
   "source": [
    "years = range(2013, 2023)  # range of years from 2013 to 2023\n",
    "df = read_atp_data(years)\n",
    "df = compute_point_difference(df)\n",
    "df[\"tourney_date\"] = pd.to_datetime(df[\"tourney_date\"], format='%Y%m%d')\n",
    "df_train = df[df[\"tourney_date\"].dt.year < 2022].copy().reset_index(drop=True)\n",
    "df_test = df[df[\"tourney_date\"].dt.year == 2022].copy().reset_index(drop=True)"
   ]
  },
  {
   "cell_type": "code",
   "execution_count": 10,
   "metadata": {},
   "outputs": [
    {
     "name": "stdout",
     "output_type": "stream",
     "text": [
      "Naive Model\n",
      " - Accuracy: 0.6428\n",
      " - Calibration: 1.0172\n",
      " - Log Loss: 0.6520\n",
      "--------------------------------------\n",
      "Logistic Regression\n",
      " - Accuracy: 0.6428\n",
      " - Calibration: 0.9533\n",
      " - Log Loss: 0.6401\n",
      "--------------------------------------\n"
     ]
    },
    {
     "data": {
      "text/plain": [
       "{'accuracy': 0.6428290766208251,\n",
       " 'calibration': 0.9532971043486245,\n",
       " 'log_loss': 0.6400686572940905}"
      ]
     },
     "execution_count": 10,
     "metadata": {},
     "output_type": "execute_result"
    }
   ],
   "source": [
    "# Naive Model\n",
    "naive_prob = df_train[\"higher_rank_won\"].mean()\n",
    "naive_prob_arr = np.repeat(naive_prob, df_test.shape[0])\n",
    "df_naive = pd.DataFrame({\"actual\": df_test[\"higher_rank_won\"], \"prob\": naive_prob_arr})\n",
    "df_naive = make_predictions(df_naive)\n",
    "validation_stats(df_naive, model_name=\"Naive Model\")\n",
    "\n",
    "# Logistic Regression Model\n",
    "X_train = df_train[[\"point_difference\"]]\n",
    "y_train = df_train[\"higher_rank_won\"]\n",
    "\n",
    "logistic_model = LogisticRegression(fit_intercept=False)\n",
    "logistic_model.fit(X_train, y_train)\n",
    "\n",
    "logistic_prob_arr = logistic_model.predict_proba(df_test[[\"point_difference\"]])[:, 1]\n",
    "df_logistic = pd.DataFrame({\"actual\": df_test[\"higher_rank_won\"], \"prob\": logistic_prob_arr})\n",
    "df_logistic = make_predictions(df_logistic)\n",
    "validation_stats(df_logistic, model_name=\"Logistic Regression\")"
   ]
  },
  {
   "cell_type": "code",
   "execution_count": 11,
   "metadata": {},
   "outputs": [
    {
     "name": "stdout",
     "output_type": "stream",
     "text": [
      "ELO Model (K-factor)\n",
      " - Accuracy: 0.6472\n",
      " - Calibration: 0.9953\n",
      " - Log Loss: 0.6165\n",
      "--------------------------------------\n"
     ]
    },
    {
     "data": {
      "text/plain": [
       "{'accuracy': 0.6471512770137524,\n",
       " 'calibration': 0.9952840880240154,\n",
       " 'log_loss': 0.616503267644809}"
      ]
     },
     "execution_count": 11,
     "metadata": {},
     "output_type": "execute_result"
    }
   ],
   "source": [
    "def k_fixed(matches_played, k=32):\n",
    "    return k\n",
    "# ELO Model with fixed K-factor\n",
    "df_elo_train_fixed, elo_ratings_fixed = implement_elo(df_train, k_fixed)\n",
    "prob_higher_rank_fixed = []\n",
    "\n",
    "# Update Elo ratings dynamically during testing\n",
    "for i, row in df_test.iterrows():\n",
    "    winner = row[\"winner_name\"]\n",
    "    loser = row[\"loser_name\"]\n",
    "    winner_elo = elo_ratings_fixed.get(winner, 1500)\n",
    "    loser_elo = elo_ratings_fixed.get(loser, 1500)\n",
    "    winner_matches = df_train[df_train[\"winner_name\"] == winner].shape[0] + i\n",
    "    loser_matches = df_train[df_train[\"loser_name\"] == loser].shape[0] + i\n",
    "    prob = get_elo_prob(winner_elo, loser_elo)\n",
    "    prob_higher_rank_fixed.append(prob if row[\"higher_rank_won\"] else 1 - prob)\n",
    "    # Update Elo ratings based on the match result\n",
    "    winner_new_elo, loser_new_elo = update_elo(winner_elo, loser_elo, k_fixed, winner_matches, loser_matches)\n",
    "    elo_ratings_fixed[winner] = winner_new_elo\n",
    "    elo_ratings_fixed[loser] = loser_new_elo\n",
    "\n",
    "df_k_factor_test = df_test.copy()\n",
    "df_k_factor_test[\"prob\"] = prob_higher_rank_fixed\n",
    "df_k_factor_test.rename(columns={\"higher_rank_won\": \"actual\"}, inplace=True)\n",
    "df_k_factor_test = make_predictions(df_k_factor_test)\n",
    "validation_stats(df_k_factor_test, model_name=\"ELO Model (K-factor)\")"
   ]
  },
  {
   "cell_type": "code",
   "execution_count": 12,
   "metadata": {},
   "outputs": [
    {
     "name": "stdout",
     "output_type": "stream",
     "text": [
      "Best score=0.6527\n",
      "Best parameter: k=48.17\n"
     ]
    }
   ],
   "source": [
    "# Define the search space for hyperparameters\n",
    "space  = [\n",
    "    Real(1, 50, name='k')\n",
    "]\n",
    "\n",
    "@use_named_args(space)\n",
    "def objective(k):\n",
    "    def k_fixed(matches_played, k=k):\n",
    "        return k\n",
    "\n",
    "    df_elo_train, elo_ratings = implement_elo(df_train, k_fixed)\n",
    "    prob_higher_rank = []\n",
    "\n",
    "    for i, row in df_test.iterrows():\n",
    "        winner = row[\"winner_name\"]\n",
    "        loser = row[\"loser_name\"]\n",
    "        winner_elo = elo_ratings.get(winner, 1500)\n",
    "        loser_elo = elo_ratings.get(loser, 1500)\n",
    "        winner_matches = df_train[df_train[\"winner_name\"] == winner].shape[0] + i\n",
    "        loser_matches = df_train[df_train[\"loser_name\"] == loser].shape[0] + i\n",
    "        prob = get_elo_prob(winner_elo, loser_elo)\n",
    "        prob_higher_rank.append(prob if row[\"higher_rank_won\"] else 1 - prob)\n",
    "        winner_new_elo, loser_new_elo = update_elo(winner_elo, loser_elo, k_fixed, winner_matches, loser_matches)\n",
    "        elo_ratings[winner] = winner_new_elo\n",
    "        elo_ratings[loser] = loser_new_elo\n",
    "\n",
    "    df_test_copy = df_test.copy()\n",
    "    df_test_copy[\"prob\"] = prob_higher_rank\n",
    "    df_test_copy.rename(columns={\"higher_rank_won\": \"actual\"}, inplace=True)\n",
    "    df_test_copy = make_predictions(df_test_copy)\n",
    "    \n",
    "    acc = accuracy_score(df_test_copy[\"actual\"], df_test_copy[\"pred\"])\n",
    "    \n",
    "    return -acc  # Minimize the negative accuracy\n",
    "\n",
    "# Perform Bayesian optimization\n",
    "res_gp = gp_minimize(objective, space, n_calls=50, random_state=0)\n",
    "\n",
    "print(\"Best score=%.4f\" % -res_gp.fun)\n",
    "print(\"Best parameter: k=%.2f\" % res_gp.x[0])"
   ]
  },
  {
   "cell_type": "code",
   "execution_count": 13,
   "metadata": {},
   "outputs": [
    {
     "name": "stdout",
     "output_type": "stream",
     "text": [
      "ELO Model (K-factor)\n",
      " - Accuracy: 0.6527\n",
      " - Calibration: 1.0110\n",
      " - Log Loss: 0.6215\n",
      "--------------------------------------\n"
     ]
    },
    {
     "data": {
      "text/plain": [
       "{'accuracy': 0.6526522593320235,\n",
       " 'calibration': 1.010982188955841,\n",
       " 'log_loss': 0.6215398602476306}"
      ]
     },
     "execution_count": 13,
     "metadata": {},
     "output_type": "execute_result"
    }
   ],
   "source": [
    "def k_fixed(matches_played, k=48.17):\n",
    "    return k\n",
    "# ELO Model with fixed K-factor\n",
    "df_elo_train_fixed, elo_ratings_fixed = implement_elo(df_train, k_fixed)\n",
    "prob_higher_rank_fixed = []\n",
    "\n",
    "# Update Elo ratings dynamically during testing\n",
    "for i, row in df_test.iterrows():\n",
    "    winner = row[\"winner_name\"]\n",
    "    loser = row[\"loser_name\"]\n",
    "    winner_elo = elo_ratings_fixed.get(winner, 1500)\n",
    "    loser_elo = elo_ratings_fixed.get(loser, 1500)\n",
    "    winner_matches = df_train[df_train[\"winner_name\"] == winner].shape[0] + i\n",
    "    loser_matches = df_train[df_train[\"loser_name\"] == loser].shape[0] + i\n",
    "    prob = get_elo_prob(winner_elo, loser_elo)\n",
    "    prob_higher_rank_fixed.append(prob if row[\"higher_rank_won\"] else 1 - prob)\n",
    "    # Update Elo ratings based on the match result\n",
    "    winner_new_elo, loser_new_elo = update_elo(winner_elo, loser_elo, k_fixed, winner_matches, loser_matches)\n",
    "    elo_ratings_fixed[winner] = winner_new_elo\n",
    "    elo_ratings_fixed[loser] = loser_new_elo\n",
    "\n",
    "df_k_factor_test = df_test.copy()\n",
    "df_k_factor_test[\"prob\"] = prob_higher_rank_fixed\n",
    "df_k_factor_test.rename(columns={\"higher_rank_won\": \"actual\"}, inplace=True)\n",
    "df_k_factor_test = make_predictions(df_k_factor_test)\n",
    "validation_stats(df_k_factor_test, model_name=\"ELO Model (K-factor)\")"
   ]
  },
  {
   "cell_type": "code",
   "execution_count": 14,
   "metadata": {},
   "outputs": [
    {
     "name": "stdout",
     "output_type": "stream",
     "text": [
      "ELO Model (k_538)\n",
      " - Accuracy: 0.6479\n",
      " - Calibration: 1.0243\n",
      " - Log Loss: 0.6267\n",
      "--------------------------------------\n"
     ]
    },
    {
     "data": {
      "text/plain": [
       "{'accuracy': 0.6479371316306484,\n",
       " 'calibration': 1.024320144669537,\n",
       " 'log_loss': 0.6266581203826803}"
      ]
     },
     "execution_count": 14,
     "metadata": {},
     "output_type": "execute_result"
    }
   ],
   "source": [
    "def k_538(matches_played, delta=100, nu=5, sigma=0.1):\n",
    "    return delta / (matches_played + nu) ** sigma\n",
    "# ELO Model with k_538\n",
    "df_elo_train_538, elo_ratings_538 = implement_elo(df_train, k_538)\n",
    "prob_higher_rank_538 = []\n",
    "\n",
    "# Update Elo ratings dynamically during testing\n",
    "for i, row in df_test.iterrows():\n",
    "    winner = row[\"winner_name\"]\n",
    "    loser = row[\"loser_name\"]\n",
    "    winner_elo = elo_ratings_538.get(winner, 1500)\n",
    "    loser_elo = elo_ratings_538.get(loser, 1500)\n",
    "    winner_matches = df_train[df_train[\"winner_name\"] == winner].shape[0] + i\n",
    "    loser_matches = df_train[df_train[\"loser_name\"] == loser].shape[0] + i\n",
    "    prob = get_elo_prob(winner_elo, loser_elo)\n",
    "    prob_higher_rank_538.append(prob if row[\"higher_rank_won\"] else 1 - prob)\n",
    "    # Update Elo ratings based on the match result\n",
    "    winner_new_elo, loser_new_elo = update_elo(winner_elo, loser_elo, k_538, winner_matches, loser_matches)\n",
    "    elo_ratings_538[winner] = winner_new_elo\n",
    "    elo_ratings_538[loser] = loser_new_elo\n",
    "\n",
    "df_538_test = df_test.copy()\n",
    "df_538_test[\"prob\"] = prob_higher_rank_538\n",
    "df_538_test.rename(columns={\"higher_rank_won\": \"actual\"}, inplace=True)\n",
    "df_538_test = make_predictions(df_538_test)\n",
    "validation_stats(df_538_test, model_name=\"ELO Model (k_538)\")"
   ]
  },
  {
   "cell_type": "code",
   "execution_count": 15,
   "metadata": {},
   "outputs": [
    {
     "name": "stdout",
     "output_type": "stream",
     "text": [
      "Best score=0.6487\n",
      "Best parameters: delta=196, nu=7, sigma=0.10\n"
     ]
    }
   ],
   "source": [
    "\n",
    "# Define the search space for hyperparameters\n",
    "space  = [\n",
    "    Integer(100, 500, name='delta'),\n",
    "    Integer(5, 50, name='nu'),\n",
    "    Real(0.1, 1.0, name='sigma')\n",
    "]\n",
    "\n",
    "@use_named_args(space)\n",
    "def objective(delta, nu, sigma):\n",
    "    def k_538(matches_played, delta=delta, nu=nu, sigma=sigma):\n",
    "        return delta / (matches_played + nu) ** sigma\n",
    "    \n",
    "    df_elo_train, elo_ratings = implement_elo(df_train, k_538)\n",
    "    prob_higher_rank = []\n",
    "\n",
    "    for i, row in df_test.iterrows():\n",
    "        winner = row[\"winner_name\"]\n",
    "        loser = row[\"loser_name\"]\n",
    "        winner_elo = elo_ratings.get(winner, 1500)\n",
    "        loser_elo = elo_ratings.get(loser, 1500)\n",
    "        winner_matches = df_train[df_train[\"winner_name\"] == winner].shape[0] + i\n",
    "        loser_matches = df_train[df_train[\"loser_name\"] == loser].shape[0] + i\n",
    "        prob = get_elo_prob(winner_elo, loser_elo)\n",
    "        prob_higher_rank.append(prob if row[\"higher_rank_won\"] else 1 - prob)\n",
    "        winner_new_elo, loser_new_elo = update_elo(winner_elo, loser_elo, k_538, winner_matches, loser_matches)\n",
    "        elo_ratings[winner] = winner_new_elo\n",
    "        elo_ratings[loser] = loser_new_elo\n",
    "\n",
    "    df_test_copy = df_test.copy()\n",
    "    df_test_copy[\"prob\"] = prob_higher_rank\n",
    "    df_test_copy.rename(columns={\"higher_rank_won\": \"actual\"}, inplace=True)\n",
    "    df_test_copy = make_predictions(df_test_copy)\n",
    "    \n",
    "    acc = accuracy_score(df_test_copy[\"actual\"], df_test_copy[\"pred\"])\n",
    "    \n",
    "    return -acc  # Minimize the negative accuracy\n",
    "\n",
    "# Perform Bayesian optimization\n",
    "res_gp = gp_minimize(objective, space, n_calls=50, random_state=0)\n",
    "\n",
    "print(\"Best score=%.4f\" % -res_gp.fun)\n",
    "print(\"Best parameters: delta=%d, nu=%d, sigma=%.2f\" % (res_gp.x[0], res_gp.x[1], res_gp.x[2]))"
   ]
  },
  {
   "cell_type": "code",
   "execution_count": 16,
   "metadata": {},
   "outputs": [
    {
     "name": "stdout",
     "output_type": "stream",
     "text": [
      "ELO Model (k_538)\n",
      " - Accuracy: 0.6487\n",
      " - Calibration: 1.0385\n",
      " - Log Loss: 0.6575\n",
      "--------------------------------------\n"
     ]
    },
    {
     "data": {
      "text/plain": [
       "{'accuracy': 0.6487229862475442,\n",
       " 'calibration': 1.0385369353406442,\n",
       " 'log_loss': 0.6575451900239043}"
      ]
     },
     "execution_count": 16,
     "metadata": {},
     "output_type": "execute_result"
    }
   ],
   "source": [
    "def k_538(matches_played, delta=196, nu=7, sigma=0.10):\n",
    "    return delta / (matches_played + nu) ** sigma\n",
    "# ELO Model with k_538\n",
    "df_elo_train_538, elo_ratings_538 = implement_elo(df_train, k_538)\n",
    "prob_higher_rank_538 = []\n",
    "\n",
    "# Update Elo ratings dynamically during testing\n",
    "for i, row in df_test.iterrows():\n",
    "    winner = row[\"winner_name\"]\n",
    "    loser = row[\"loser_name\"]\n",
    "    winner_elo = elo_ratings_538.get(winner, 1500)\n",
    "    loser_elo = elo_ratings_538.get(loser, 1500)\n",
    "    winner_matches = df_train[df_train[\"winner_name\"] == winner].shape[0] + i\n",
    "    loser_matches = df_train[df_train[\"loser_name\"] == loser].shape[0] + i\n",
    "    prob = get_elo_prob(winner_elo, loser_elo)\n",
    "    prob_higher_rank_538.append(prob if row[\"higher_rank_won\"] else 1 - prob)\n",
    "    # Update Elo ratings based on the match result\n",
    "    winner_new_elo, loser_new_elo = update_elo(winner_elo, loser_elo, k_538, winner_matches, loser_matches)\n",
    "    elo_ratings_538[winner] = winner_new_elo\n",
    "    elo_ratings_538[loser] = loser_new_elo\n",
    "\n",
    "df_538_test = df_test.copy()\n",
    "df_538_test[\"prob\"] = prob_higher_rank_538\n",
    "df_538_test.rename(columns={\"higher_rank_won\": \"actual\"}, inplace=True)\n",
    "df_538_test = make_predictions(df_538_test)\n",
    "validation_stats(df_538_test, model_name=\"ELO Model (k_538)\")"
   ]
  },
  {
   "cell_type": "code",
   "execution_count": 17,
   "metadata": {},
   "outputs": [
    {
     "name": "stdout",
     "output_type": "stream",
     "text": [
      "Bookmakers Consensus Model (BCM)\n",
      " - Accuracy: 0.7969\n",
      " - Calibration: 0.9292\n",
      " - Log Loss: 0.4886\n",
      "--------------------------------------\n"
     ]
    },
    {
     "data": {
      "text/plain": [
       "{'accuracy': 0.7968565815324165,\n",
       " 'calibration': 0.9291914575446384,\n",
       " 'log_loss': 0.4886259540948213}"
      ]
     },
     "execution_count": 17,
     "metadata": {},
     "output_type": "execute_result"
    }
   ],
   "source": [
    "# Implement BCM model on test data\n",
    "df_test = get_bcm_probabilities(df_test)\n",
    "\n",
    "df_bcm = df_test.copy()\n",
    "df_bcm.rename(columns={\"higher_rank_won\": \"actual\"}, inplace=True)\n",
    "df_bcm[\"prob\"] = df_bcm[\"bcm_prob\"]\n",
    "df_bcm = make_predictions(df_bcm)\n",
    "validation_stats(df_bcm, model_name=\"Bookmakers Consensus Model (BCM)\")"
   ]
  },
  {
   "cell_type": "code",
   "execution_count": 18,
   "metadata": {},
   "outputs": [
    {
     "data": {
      "image/png": "[encoded data removed]",
      "text/plain": [
       "<Figure size 1000x600 with 1 Axes>"
      ]
     },
     "metadata": {},
     "output_type": "display_data"
    }
   ],
   "source": [
    "def get_individual_data(df, player_name):\n",
    "    player_mask = (df[\"winner_name\"] == player_name) | (df[\"loser_name\"] == player_name)\n",
    "    df_player = df[player_mask].copy()\n",
    "    player_won = df_player[\"winner_name\"] == player_name\n",
    "\n",
    "    df_player[\"elo_before_game\"] = np.where(player_won, df_player[\"winner_elo_before_game\"], df_player[\"loser_elo_before_game\"])\n",
    "    df_player = df_player.sort_values(\"tourney_date\")\n",
    "    return df_player\n",
    "\n",
    "def plot_elo_scores(player_name, df_player_k_factor, df_player_538):\n",
    "    plt.figure(figsize=(10, 6))\n",
    "    plt.plot(df_player_k_factor[\"tourney_date\"], df_player_k_factor[\"elo_before_game\"], label=\"K-Factor Elo\")\n",
    "    plt.plot(df_player_538[\"tourney_date\"], df_player_538[\"elo_before_game\"], label=\"538 Elo\")\n",
    "    plt.title(f\"Elo Scores for {player_name}\")\n",
    "    plt.xlabel(\"Date\")\n",
    "    plt.ylabel(\"Elo Score\")\n",
    "    plt.legend()\n",
    "    plt.grid(True)\n",
    "    plt.show()\n",
    "\n",
    "player_name = \"Djokovic N.\"\n",
    "df_player_k_factor = get_individual_data(df_elo_train_fixed, player_name)\n",
    "df_player_538 = get_individual_data(df_elo_train_538, player_name)\n",
    "\n",
    "plot_elo_scores(player_name, df_player_k_factor, df_player_538)"
   ]
  },
  {
   "cell_type": "code",
   "execution_count": 19,
   "metadata": {},
   "outputs": [],
   "source": [
    "def margin_of_victory(num_sets_won_winner, num_sets_won_loser):\n",
    "    return num_sets_won_winner - num_sets_won_loser\n",
    "\n",
    "def k_margin(matches_played, margin, base_k=32, margin_factor=10):\n",
    "    # Adjust the K-factor based on the margin of victory\n",
    "    return base_k + margin_factor * margin\n",
    "\n",
    "def update_elo_with_margin(winner_elo, loser_elo, k_func, winner_matches, loser_matches, margin):\n",
    "    prob = get_elo_prob(winner_elo, loser_elo)\n",
    "    k_winner = k_func(winner_matches, margin)\n",
    "    k_loser = k_func(loser_matches, margin)\n",
    "    winner_elo += k_winner * (1 - prob)\n",
    "    loser_elo += k_loser * (0 - (1 - prob))\n",
    "    return winner_elo, loser_elo\n",
    "\n",
    "def implement_elo_with_margin(df, k_func):\n",
    "    elo_ratings = {}\n",
    "    matches_played = {}\n",
    "    df_elo = df.copy()\n",
    "\n",
    "    for index, row in df.iterrows():\n",
    "        winner = row[\"winner_name\"]\n",
    "        loser = row[\"loser_name\"]\n",
    "        num_sets_won_winner = row[\"Wsets\"]\n",
    "        num_sets_won_loser = row[\"Lsets\"]\n",
    "        margin = margin_of_victory(num_sets_won_winner, num_sets_won_loser)\n",
    "\n",
    "        winner_elo = elo_ratings.get(winner, 1500)\n",
    "        loser_elo = elo_ratings.get(loser, 1500)\n",
    "        winner_matches = matches_played.get(winner, 0)\n",
    "        loser_matches = matches_played.get(loser, 0)\n",
    "\n",
    "        winner_new_elo, loser_new_elo = update_elo_with_margin(winner_elo, loser_elo, k_func, winner_matches, loser_matches, margin)\n",
    "\n",
    "        elo_ratings[winner] = winner_new_elo\n",
    "        elo_ratings[loser] = loser_new_elo\n",
    "        matches_played[winner] = winner_matches + 1\n",
    "        matches_played[loser] = loser_matches + 1\n",
    "\n",
    "        df_elo.at[index, \"elo_prob\"] = get_elo_prob(winner_new_elo, loser_new_elo)\n",
    "        df_elo.at[index, \"winner_elo_before_game\"] = winner_elo\n",
    "        df_elo.at[index, \"loser_elo_before_game\"] = loser_elo\n",
    "\n",
    "    return df_elo, elo_ratings"
   ]
  },
  {
   "cell_type": "code",
   "execution_count": 20,
   "metadata": {},
   "outputs": [
    {
     "name": "stdout",
     "output_type": "stream",
     "text": [
      "ELO Model (Margin Adjustment)\n",
      " - Accuracy: 0.6487\n",
      " - Calibration: 1.0265\n",
      " - Log Loss: 0.6274\n",
      "--------------------------------------\n"
     ]
    },
    {
     "data": {
      "text/plain": [
       "{'accuracy': 0.6487229862475442,\n",
       " 'calibration': 1.0264992433170457,\n",
       " 'log_loss': 0.6274064355221685}"
      ]
     },
     "execution_count": 20,
     "metadata": {},
     "output_type": "execute_result"
    }
   ],
   "source": [
    "# Implement the new ELO model with margin adjustment\n",
    "def k_margin_func(matches_played, margin, k=32, margin_factor=17):\n",
    "    return k + margin_factor * margin\n",
    "\n",
    "# ELO Model with margin adjustment\n",
    "df_elo_train_margin, elo_ratings_margin = implement_elo_with_margin(df_train, k_margin_func)\n",
    "prob_higher_rank_margin = []\n",
    "\n",
    "# Update Elo ratings dynamically during testing\n",
    "for i, row in df_test.iterrows():\n",
    "    winner = row[\"winner_name\"]\n",
    "    loser = row[\"loser_name\"]\n",
    "    num_sets_won_winner = row[\"Wsets\"]\n",
    "    num_sets_won_loser = row[\"Lsets\"]\n",
    "    margin = margin_of_victory(num_sets_won_winner, num_sets_won_loser)\n",
    "\n",
    "    winner_elo = elo_ratings_margin.get(winner, 1500)\n",
    "    loser_elo = elo_ratings_margin.get(loser, 1500)\n",
    "    winner_matches = df_train[df_train[\"winner_name\"] == winner].shape[0] + i\n",
    "    loser_matches = df_train[df_train[\"loser_name\"] == loser].shape[0] + i\n",
    "\n",
    "    prob = get_elo_prob(winner_elo, loser_elo)\n",
    "    prob_higher_rank_margin.append(prob if row[\"higher_rank_won\"] else 1 - prob)\n",
    "\n",
    "    winner_new_elo, loser_new_elo = update_elo_with_margin(winner_elo, loser_elo, k_margin_func, winner_matches, loser_matches, margin)\n",
    "    elo_ratings_margin[winner] = winner_new_elo\n",
    "    elo_ratings_margin[loser] = loser_new_elo\n",
    "\n",
    "df_margin_test = df_test.copy()\n",
    "df_margin_test[\"prob\"] = prob_higher_rank_margin\n",
    "df_margin_test.rename(columns={\"higher_rank_won\": \"actual\"}, inplace=True)\n",
    "df_margin_test = make_predictions(df_margin_test)\n",
    "validation_stats(df_margin_test, model_name=\"ELO Model (Margin Adjustment)\")"
   ]
  },
  {
   "cell_type": "code",
   "execution_count": 21,
   "metadata": {},
   "outputs": [
    {
     "name": "stdout",
     "output_type": "stream",
     "text": [
      "Best score=0.6554\n",
      "Best parameters: k=1.00, margin_factor=13.38\n"
     ]
    }
   ],
   "source": [
    "# Define the search space for hyperparameters\n",
    "space  = [\n",
    "    Real(1, 50, name='k'),\n",
    "    Real(5, 50, name='margin_factor')\n",
    "]\n",
    "@use_named_args(space)\n",
    "def objective(k, margin_factor):\n",
    "    \n",
    "    def k_538_with_margin(matches_played, margin, k=k, margin_factor=margin_factor):\n",
    "        return k + margin_factor * margin  # Use margin_factor here\n",
    "\n",
    "    df_elo_train, elo_ratings = implement_elo_with_margin(df_train, k_538_with_margin)\n",
    "    prob_higher_rank = []\n",
    "\n",
    "    for i, row in df_test.iterrows():\n",
    "        winner = row[\"winner_name\"]\n",
    "        loser = row[\"loser_name\"]\n",
    "        winner_elo = elo_ratings.get(winner, 1500)\n",
    "        loser_elo = elo_ratings.get(loser, 1500)\n",
    "        winner_matches = df_train[df_train[\"winner_name\"] == winner].shape[0] + i\n",
    "        loser_matches = df_train[df_train[\"loser_name\"] == loser].shape[0] + i\n",
    "        margin = row[\"Wsets\"] - row[\"Lsets\"]\n",
    "        prob = get_elo_prob(winner_elo, loser_elo)\n",
    "        prob_higher_rank.append(prob if row[\"higher_rank_won\"] else 1 - prob)\n",
    "        winner_new_elo, loser_new_elo = update_elo_with_margin(winner_elo, loser_elo, k_538_with_margin, winner_matches, loser_matches, margin)\n",
    "        elo_ratings[winner] = winner_new_elo\n",
    "        elo_ratings[loser] = loser_new_elo\n",
    "\n",
    "    df_test_copy = df_test.copy()\n",
    "    df_test_copy[\"prob\"] = prob_higher_rank\n",
    "    df_test_copy.rename(columns={\"higher_rank_won\": \"actual\"}, inplace=True)\n",
    "    df_test_copy = make_predictions(df_test_copy)\n",
    "    \n",
    "    acc = accuracy_score(df_test_copy[\"actual\"], df_test_copy[\"pred\"])\n",
    "    \n",
    "    return -acc  # Minimize the negative accuracy\n",
    "\n",
    "# Perform Bayesian optimization\n",
    "res_gp = gp_minimize(objective, space, n_calls=50, random_state=0)\n",
    "\n",
    "print(\"Best score=%.4f\" % -res_gp.fun)\n",
    "print(\"Best parameters: k=%.2f, margin_factor=%.2f\" % (res_gp.x[0], res_gp.x[1]))"
   ]
  },
  {
   "cell_type": "code",
   "execution_count": 22,
   "metadata": {},
   "outputs": [
    {
     "name": "stdout",
     "output_type": "stream",
     "text": [
      "ELO Model (Margin Adjustment)\n",
      " - Accuracy: 0.6558\n",
      " - Calibration: 0.9978\n",
      " - Log Loss: 0.6162\n",
      "--------------------------------------\n"
     ]
    },
    {
     "data": {
      "text/plain": [
       "{'accuracy': 0.6557956777996071,\n",
       " 'calibration': 0.9977790201912118,\n",
       " 'log_loss': 0.6161563274166015}"
      ]
     },
     "execution_count": 22,
     "metadata": {},
     "output_type": "execute_result"
    }
   ],
   "source": [
    "# Implement the new ELO model with margin adjustment\n",
    "def k_margin_func(matches_played, margin, k=1, margin_factor=13.38):\n",
    "    return k + margin_factor * margin\n",
    "\n",
    "# ELO Model with margin adjustment\n",
    "df_elo_train_margin, elo_ratings_margin = implement_elo_with_margin(df_train, k_margin_func)\n",
    "prob_higher_rank_margin = []\n",
    "\n",
    "# Update Elo ratings dynamically during testing\n",
    "for i, row in df_test.iterrows():\n",
    "    winner = row[\"winner_name\"]\n",
    "    loser = row[\"loser_name\"]\n",
    "    num_sets_won_winner = row[\"Wsets\"]\n",
    "    num_sets_won_loser = row[\"Lsets\"]\n",
    "    margin = margin_of_victory(num_sets_won_winner, num_sets_won_loser)\n",
    "\n",
    "    winner_elo = elo_ratings_margin.get(winner, 1500)\n",
    "    loser_elo = elo_ratings_margin.get(loser, 1500)\n",
    "    winner_matches = df_train[df_train[\"winner_name\"] == winner].shape[0] + i\n",
    "    loser_matches = df_train[df_train[\"loser_name\"] == loser].shape[0] + i\n",
    "\n",
    "    prob = get_elo_prob(winner_elo, loser_elo)\n",
    "    prob_higher_rank_margin.append(prob if row[\"higher_rank_won\"] else 1 - prob)\n",
    "\n",
    "    winner_new_elo, loser_new_elo = update_elo_with_margin(winner_elo, loser_elo, k_margin_func, winner_matches, loser_matches, margin)\n",
    "    elo_ratings_margin[winner] = winner_new_elo\n",
    "    elo_ratings_margin[loser] = loser_new_elo\n",
    "\n",
    "df_margin_test = df_test.copy()\n",
    "df_margin_test[\"prob\"] = prob_higher_rank_margin\n",
    "df_margin_test.rename(columns={\"higher_rank_won\": \"actual\"}, inplace=True)\n",
    "df_margin_test = make_predictions(df_margin_test)\n",
    "validation_stats(df_margin_test, model_name=\"ELO Model (Margin Adjustment)\")"
   ]
  },
  {
   "cell_type": "code",
   "execution_count": 23,
   "metadata": {},
   "outputs": [
    {
     "name": "stdout",
     "output_type": "stream",
     "text": [
      "ELO Model (k_538 with Margin of Victory)\n",
      " - Accuracy: 0.6499\n",
      " - Calibration: 1.0527\n",
      " - Log Loss: 0.6561\n",
      "--------------------------------------\n"
     ]
    },
    {
     "data": {
      "text/plain": [
       "{'accuracy': 0.649901768172888,\n",
       " 'calibration': 1.0527401749534975,\n",
       " 'log_loss': 0.6560747833356303}"
      ]
     },
     "execution_count": 23,
     "metadata": {},
     "output_type": "execute_result"
    }
   ],
   "source": [
    "def k_538_with_margin(matches_played, margin, delta=100, nu=5, sigma=0.1):\n",
    "    return (delta * margin) / (matches_played + nu) ** sigma\n",
    "\n",
    "# ELO Model with k_538 including margin of victory\n",
    "df_elo_train_538, elo_ratings_538 = implement_elo_with_margin(df_train, k_538_with_margin)\n",
    "prob_higher_rank_538 = []\n",
    "\n",
    "# Update Elo ratings dynamically during testing\n",
    "for i, row in df_test.iterrows():\n",
    "    winner = row[\"winner_name\"]\n",
    "    loser = row[\"loser_name\"]\n",
    "    winner_elo = elo_ratings_538.get(winner, 1500)\n",
    "    loser_elo = elo_ratings_538.get(loser, 1500)\n",
    "    winner_matches = df_train[df_train[\"winner_name\"] == winner].shape[0] + i\n",
    "    loser_matches = df_train[df_train[\"loser_name\"] == loser].shape[0] + i\n",
    "    margin = row[\"Wsets\"] - row[\"Lsets\"]\n",
    "    prob = get_elo_prob(winner_elo, loser_elo)\n",
    "    prob_higher_rank_538.append(prob if row[\"higher_rank_won\"] else 1 - prob)\n",
    "    # Update Elo ratings based on the match result\n",
    "    winner_new_elo, loser_new_elo = update_elo_with_margin(winner_elo, loser_elo, k_538_with_margin, winner_matches, loser_matches, margin)\n",
    "    elo_ratings_538[winner] = winner_new_elo\n",
    "    elo_ratings_538[loser] = loser_new_elo\n",
    "\n",
    "df_538_test = df_test.copy()\n",
    "df_538_test[\"prob\"] = prob_higher_rank_538\n",
    "df_538_test.rename(columns={\"higher_rank_won\": \"actual\"}, inplace=True)\n",
    "df_538_test = make_predictions(df_538_test)\n",
    "validation_stats(df_538_test, model_name=\"ELO Model (k_538 with Margin of Victory)\")"
   ]
  },
  {
   "cell_type": "code",
   "execution_count": 24,
   "metadata": {},
   "outputs": [
    {
     "name": "stdout",
     "output_type": "stream",
     "text": [
      "Best score=0.6582\n",
      "Best parameters: delta=100, nu=5, sigma=0.27\n"
     ]
    }
   ],
   "source": [
    "\n",
    "# Define the search space for hyperparameters\n",
    "space  = [\n",
    "    Integer(100, 500, name='delta'),\n",
    "    Integer(5, 50, name='nu'),\n",
    "    Real(0.1, 1.0, name='sigma')\n",
    "]\n",
    "\n",
    "@use_named_args(space)\n",
    "def objective(delta, nu, sigma):\n",
    "    def k_538_with_margin(matches_played, margin, delta=delta, nu=nu, sigma=sigma):\n",
    "        return (delta * margin) / (matches_played + nu) ** sigma\n",
    "    \n",
    "    df_elo_train, elo_ratings = implement_elo_with_margin(df_train, k_538_with_margin)\n",
    "    prob_higher_rank = []\n",
    "\n",
    "    for i, row in df_test.iterrows():\n",
    "        winner = row[\"winner_name\"]\n",
    "        loser = row[\"loser_name\"]\n",
    "        winner_elo = elo_ratings.get(winner, 1500)\n",
    "        loser_elo = elo_ratings.get(loser, 1500)\n",
    "        winner_matches = df_train[df_train[\"winner_name\"] == winner].shape[0] + i\n",
    "        loser_matches = df_train[df_train[\"loser_name\"] == loser].shape[0] + i\n",
    "        margin = row[\"Wsets\"] - row[\"Lsets\"]\n",
    "        prob = get_elo_prob(winner_elo, loser_elo)\n",
    "        prob_higher_rank.append(prob if row[\"higher_rank_won\"] else 1 - prob)\n",
    "        winner_new_elo, loser_new_elo = update_elo_with_margin(winner_elo, loser_elo, k_538_with_margin, winner_matches, loser_matches, margin)\n",
    "        elo_ratings[winner] = winner_new_elo\n",
    "        elo_ratings[loser] = loser_new_elo\n",
    "\n",
    "    df_test_copy = df_test.copy()\n",
    "    df_test_copy[\"prob\"] = prob_higher_rank\n",
    "    df_test_copy.rename(columns={\"higher_rank_won\": \"actual\"}, inplace=True)\n",
    "    df_test_copy = make_predictions(df_test_copy)\n",
    "    \n",
    "    acc = accuracy_score(df_test_copy[\"actual\"], df_test_copy[\"pred\"])\n",
    "    \n",
    "    return -acc  # Minimize the negative accuracy\n",
    "\n",
    "# Perform Bayesian optimization\n",
    "res_gp = gp_minimize(objective, space, n_calls=50, random_state=0)\n",
    "\n",
    "print(\"Best score=%.4f\" % -res_gp.fun)\n",
    "print(\"Best parameters: delta=%d, nu=%d, sigma=%.2f\" % (res_gp.x[0], res_gp.x[1], res_gp.x[2]))"
   ]
  },
  {
   "cell_type": "code",
   "execution_count": 25,
   "metadata": {},
   "outputs": [
    {
     "name": "stdout",
     "output_type": "stream",
     "text": [
      "ELO Model (k_538 with Margin of Victory)\n",
      " - Accuracy: 0.6566\n",
      " - Calibration: 1.0401\n",
      " - Log Loss: 0.6280\n",
      "--------------------------------------\n"
     ]
    },
    {
     "data": {
      "text/plain": [
       "{'accuracy': 0.656581532416503,\n",
       " 'calibration': 1.0400603237701807,\n",
       " 'log_loss': 0.6279530543478306}"
      ]
     },
     "execution_count": 25,
     "metadata": {},
     "output_type": "execute_result"
    }
   ],
   "source": [
    "def k_538_with_margin(matches_played, margin, delta=100, nu=5, sigma=0.27):\n",
    "    return (delta * margin) / (matches_played + nu) ** sigma\n",
    "\n",
    "# ELO Model with k_538 including margin of victory\n",
    "df_elo_train_538, elo_ratings_538 = implement_elo_with_margin(df_train, k_538_with_margin)\n",
    "prob_higher_rank_538 = []\n",
    "\n",
    "# Update Elo ratings dynamically during testing\n",
    "for i, row in df_test.iterrows():\n",
    "    winner = row[\"winner_name\"]\n",
    "    loser = row[\"loser_name\"]\n",
    "    winner_elo = elo_ratings_538.get(winner, 1500)\n",
    "    loser_elo = elo_ratings_538.get(loser, 1500)\n",
    "    winner_matches = df_train[df_train[\"winner_name\"] == winner].shape[0] + i\n",
    "    loser_matches = df_train[df_train[\"loser_name\"] == loser].shape[0] + i\n",
    "    margin = row[\"Wsets\"] - row[\"Lsets\"]\n",
    "    prob = get_elo_prob(winner_elo, loser_elo)\n",
    "    prob_higher_rank_538.append(prob if row[\"higher_rank_won\"] else 1 - prob)\n",
    "    # Update Elo ratings based on the match result\n",
    "    winner_new_elo, loser_new_elo = update_elo_with_margin(winner_elo, loser_elo, k_538_with_margin, winner_matches, loser_matches, margin)\n",
    "    elo_ratings_538[winner] = winner_new_elo\n",
    "    elo_ratings_538[loser] = loser_new_elo\n",
    "\n",
    "df_538_test = df_test.copy()\n",
    "df_538_test[\"prob\"] = prob_higher_rank_538\n",
    "df_538_test.rename(columns={\"higher_rank_won\": \"actual\"}, inplace=True)\n",
    "df_538_test = make_predictions(df_538_test)\n",
    "validation_stats(df_538_test, model_name=\"ELO Model (k_538 with Margin of Victory)\")"
   ]
  },
  {
   "cell_type": "code",
   "execution_count": 26,
   "metadata": {},
   "outputs": [
    {
     "name": "stdout",
     "output_type": "stream",
     "text": [
      "TrueSkill Model\n",
      " - Accuracy: 0.6369\n",
      " - Calibration: 1.0950\n",
      " - Log Loss: 0.7918\n",
      "--------------------------------------\n"
     ]
    },
    {
     "data": {
      "text/plain": [
       "{'accuracy': 0.6369351669941061,\n",
       " 'calibration': 1.0949944330791979,\n",
       " 'log_loss': 0.7917844438106166}"
      ]
     },
     "execution_count": 26,
     "metadata": {},
     "output_type": "execute_result"
    }
   ],
   "source": [
    "from trueskill import TrueSkill, Rating\n",
    "\n",
    "def get_trueskill_prob(rating1, rating2):\n",
    "    delta_mu = rating1.mu - rating2.mu\n",
    "    sum_sigma = rating1.sigma ** 2 + rating2.sigma ** 2\n",
    "    return 1 / (1 + 10 ** (-delta_mu / (2 * sum_sigma ** 0.5)))\n",
    "\n",
    "def implement_trueskill(df):\n",
    "    trueskill_env = TrueSkill(mu=25, sigma=25/3, draw_probability=0)\n",
    "    trueskill_ratings = {}\n",
    "    df_trueskill = df.copy()\n",
    "\n",
    "    for index, row in df.iterrows():\n",
    "        winner = row[\"winner_name\"]\n",
    "        loser = row[\"loser_name\"]\n",
    "        winner_rating = trueskill_ratings.get(winner, trueskill_env.create_rating())\n",
    "        loser_rating = trueskill_ratings.get(loser, trueskill_env.create_rating())\n",
    "\n",
    "        winner_new_rating, loser_new_rating = trueskill_env.rate_1vs1(winner_rating, loser_rating)\n",
    "\n",
    "        trueskill_ratings[winner] = winner_new_rating\n",
    "        trueskill_ratings[loser] = loser_new_rating\n",
    "\n",
    "        df_trueskill.at[index, \"trueskill_prob\"] = get_trueskill_prob(winner_new_rating, loser_new_rating)\n",
    "        df_trueskill.at[index, \"winner_trueskill_before_game\"] = winner_rating.mu - 3 * winner_rating.sigma\n",
    "        df_trueskill.at[index, \"loser_trueskill_before_game\"] = loser_rating.mu - 3 * loser_rating.sigma\n",
    "\n",
    "    return df_trueskill, trueskill_ratings\n",
    "\n",
    "# TrueSkill Model\n",
    "trueskill_env = TrueSkill(mu=25, sigma=25/3, draw_probability=0)\n",
    "df_trueskill_train, trueskill_ratings = implement_trueskill(df_train)\n",
    "prob_higher_rank_trueskill = []\n",
    "\n",
    "# Update TrueSkill ratings dynamically during testing\n",
    "for i, row in df_test.iterrows():\n",
    "    winner = row[\"winner_name\"]\n",
    "    loser = row[\"loser_name\"]\n",
    "    winner_rating = trueskill_ratings.get(winner, trueskill_env.create_rating())\n",
    "    loser_rating = trueskill_ratings.get(loser, trueskill_env.create_rating())\n",
    "    prob = get_trueskill_prob(winner_rating, loser_rating)\n",
    "    prob_higher_rank_trueskill.append(prob if row[\"higher_rank_won\"] else 1 - prob)\n",
    "    # Update TrueSkill ratings based on the match result\n",
    "    winner_new_rating, loser_new_rating = trueskill_env.rate_1vs1(winner_rating, loser_rating)\n",
    "    trueskill_ratings[winner] = winner_new_rating\n",
    "    trueskill_ratings[loser] = loser_new_rating\n",
    "\n",
    "df_trueskill_test = df_test.copy()\n",
    "df_trueskill_test[\"prob\"] = prob_higher_rank_trueskill\n",
    "df_trueskill_test.rename(columns={\"higher_rank_won\": \"actual\"}, inplace=True)\n",
    "df_trueskill_test = make_predictions(df_trueskill_test)\n",
    "validation_stats(df_trueskill_test, model_name=\"TrueSkill Model\")"
   ]
  },
  {
   "cell_type": "code",
   "execution_count": 27,
   "metadata": {},
   "outputs": [
    {
     "name": "stdout",
     "output_type": "stream",
     "text": [
      "Best accuracy: 0.6420\n",
      "Best hyperparameters: mu=26.23, sigma=4.68\n"
     ]
    }
   ],
   "source": [
    "def objective(params):\n",
    "    mu, sigma = params\n",
    "    trueskill_env = TrueSkill(mu=mu, sigma=sigma, draw_probability=0)\n",
    "    df_trueskill_train, trueskill_ratings = implement_trueskill(df_train)\n",
    "    prob_higher_rank_trueskill = []\n",
    "\n",
    "    for i, row in df_test.iterrows():\n",
    "        winner = row[\"winner_name\"]\n",
    "        loser = row[\"loser_name\"]\n",
    "        winner_rating = trueskill_ratings.get(winner, trueskill_env.create_rating())\n",
    "        loser_rating = trueskill_ratings.get(loser, trueskill_env.create_rating())\n",
    "        prob = get_trueskill_prob(winner_rating, loser_rating)\n",
    "        prob_higher_rank_trueskill.append(prob if row[\"higher_rank_won\"] else 1 - prob)\n",
    "        winner_new_rating, loser_new_rating = trueskill_env.rate_1vs1(winner_rating, loser_rating)\n",
    "        trueskill_ratings[winner] = winner_new_rating\n",
    "        trueskill_ratings[loser] = loser_new_rating\n",
    "\n",
    "    df_trueskill_test = df_test.copy()\n",
    "    df_trueskill_test[\"prob\"] = prob_higher_rank_trueskill\n",
    "    df_trueskill_test.rename(columns={\"higher_rank_won\": \"actual\"}, inplace=True)\n",
    "    df_trueskill_test = make_predictions(df_trueskill_test)\n",
    "    stats = validation_stats_calculate(df_trueskill_test)\n",
    "    return -stats[\"accuracy\"]\n",
    "\n",
    "space = [\n",
    "    Real(10, 50, name='mu'),\n",
    "    Real(1, 10, name='sigma')\n",
    "]\n",
    "\n",
    "result = gp_minimize(objective, space, n_calls=50, random_state=42)\n",
    "print(\"Best accuracy: %.4f\" % -result.fun)\n",
    "print(\"Best hyperparameters: mu=%.2f, sigma=%.2f\" % (result.x[0], result.x[1]))"
   ]
  },
  {
   "cell_type": "code",
   "execution_count": 30,
   "metadata": {},
   "outputs": [
    {
     "name": "stdout",
     "output_type": "stream",
     "text": [
      "Glicko Model\n",
      " - Accuracy: 0.6448\n",
      " - Calibration: 0.7780\n",
      " - Log Loss: 0.6930\n",
      "--------------------------------------\n"
     ]
    },
    {
     "data": {
      "text/plain": [
       "{'accuracy': 0.6447937131630649,\n",
       " 'calibration': 0.7779892683190797,\n",
       " 'log_loss': 0.6929618012890324}"
      ]
     },
     "execution_count": 30,
     "metadata": {},
     "output_type": "execute_result"
    }
   ],
   "source": [
    "import math\n",
    "\n",
    "# Các hằng số trong mô hình Glicko\n",
    "Q = math.log(10) / 400  # Q = ln(10)/400\n",
    "INITIAL_RD = 350  # Giá trị RD ban đầu\n",
    "\n",
    "def glicko_rating_update(rating, rd, opponent_ratings, scores, weights=None):\n",
    "    \"\"\"\n",
    "    Cập nhật xếp hạng và độ tin cậy (RD) cho một người chơi sau một loạt trận đấu.\n",
    "    \n",
    "    Args:\n",
    "        rating (float): Xếp hạng hiện tại của người chơi.\n",
    "        rd (float): Độ tin cậy hiện tại của người chơi.\n",
    "        opponent_ratings (list): Danh sách xếp hạng của các đối thủ.\n",
    "        scores (list): Danh sách kết quả trận đấu tương ứng (1 nếu thắng, 0 nếu thua).\n",
    "        weights (list, optional): Danh sách trọng số tương ứng cho các trận đấu (mặc định là None).\n",
    "    \n",
    "    Returns:\n",
    "        tuple: Cặp (xếp hạng mới, độ tin cậy mới) sau khi cập nhật.\n",
    "    \"\"\"\n",
    "    if weights is None:\n",
    "        weights = [1] * len(opponent_ratings)\n",
    "    \n",
    "    # Tính toán g(RD)\n",
    "    g_rd = 1 / math.sqrt(1 + 3 * (rd ** 2) / (math.pi ** 2))\n",
    "    \n",
    "    # Tính toán E(score) dựa trên xếp hạng hiện tại và xếp hạng đối thủ\n",
    "    expected_scores = [1 / (1 + 10 ** (-g_rd * (rating - opp_rating) / 400)) for opp_rating in opponent_ratings]\n",
    "    \n",
    "    # Cập nhật xếp hạng mới\n",
    "    new_rating = rating\n",
    "    for opp_rating, score, weight in zip(opponent_ratings, scores, weights):\n",
    "        new_rating += weight * g_rd * (score - 1 / (1 + 10 ** (-g_rd * (rating - opp_rating) / 400)))\n",
    "    \n",
    "    # Cập nhật độ tin cậy mới\n",
    "    sum_squared_weights = sum(w ** 2 for w in weights)\n",
    "    new_rd = math.sqrt(sum_squared_weights / (sum_squared_weights + math.pi ** 2 / 6 - sum_squared_weights / 4) * rd ** 2)\n",
    "    \n",
    "    return new_rating, new_rd\n",
    "\n",
    "def implement_glicko(df, rd=INITIAL_RD):\n",
    "    glicko_ratings = {}\n",
    "    matches_played = {}\n",
    "    df_glicko = df.copy()\n",
    "\n",
    "    for index, row in df.iterrows():\n",
    "        winner = row[\"winner_name\"]\n",
    "        loser = row[\"loser_name\"]\n",
    "        winner_rating = glicko_ratings.get(winner, 1500)\n",
    "        loser_rating = glicko_ratings.get(loser, 1500)\n",
    "        winner_matches = matches_played.get(winner, 0)\n",
    "        loser_matches = matches_played.get(loser, 0)\n",
    "\n",
    "        # Cập nhật xếp hạng và độ tin cậy cho người thắng\n",
    "        new_winner_rating, new_winner_rd = glicko_rating_update(winner_rating, rd, [loser_rating], [1])\n",
    "        glicko_ratings[winner] = new_winner_rating\n",
    "        matches_played[winner] = winner_matches + 1\n",
    "\n",
    "        # Cập nhật xếp hạng và độ tin cậy cho người thua\n",
    "        new_loser_rating, new_loser_rd = glicko_rating_update(loser_rating, rd, [winner_rating], [0])\n",
    "        glicko_ratings[loser] = new_loser_rating\n",
    "        matches_played[loser] = loser_matches + 1\n",
    "\n",
    "        df_glicko.at[index, \"glicko_prob\"] = 1 / (1 + 10 ** (-new_winner_rating / 400 + new_loser_rating / 400))\n",
    "        df_glicko.at[index, \"winner_glicko_before_game\"] = winner_rating\n",
    "        df_glicko.at[index, \"loser_glicko_before_game\"] = loser_rating\n",
    "\n",
    "    return df_glicko, glicko_ratings\n",
    "# Áp dụng mô hình Glicko cho tập huấn luyện\n",
    "df_glicko_train, glicko_ratings = implement_glicko(df_train, rd=INITIAL_RD)\n",
    "\n",
    "# Dự đoán xác suất cho tập kiểm tra\n",
    "prob_higher_rank_glicko = []\n",
    "\n",
    "# Cập nhật xếp hạng và độ tin cậy Glicko trong quá trình kiểm tra\n",
    "for i, row in df_test.iterrows():\n",
    "    winner = row[\"winner_name\"]\n",
    "    loser = row[\"loser_name\"]\n",
    "    winner_rating = glicko_ratings.get(winner, 1500)\n",
    "    loser_rating = glicko_ratings.get(loser, 1500)\n",
    "    winner_matches = df_train[df_train[\"winner_name\"] == winner].shape[0] + i\n",
    "    loser_matches = df_train[df_train[\"loser_name\"] == loser].shape[0] + i\n",
    "\n",
    "    # Cập nhật xếp hạng và độ tin cậy cho người thắng\n",
    "    new_winner_rating, new_winner_rd = glicko_rating_update(winner_rating, INITIAL_RD, [loser_rating], [1])\n",
    "    glicko_ratings[winner] = new_winner_rating\n",
    "\n",
    "    # Cập nhật xếp hạng và độ tin cậy cho người thua\n",
    "    new_loser_rating, new_loser_rd = glicko_rating_update(loser_rating, INITIAL_RD, [winner_rating], [0])\n",
    "    glicko_ratings[loser] = new_loser_rating\n",
    "\n",
    "    prob = 1 / (1 + 10 ** (-new_winner_rating / 400 + new_loser_rating / 400))\n",
    "    prob_higher_rank_glicko.append(prob if row[\"higher_rank_won\"] else 1 - prob)\n",
    "\n",
    "df_glicko_test = df_test.copy()\n",
    "df_glicko_test[\"prob\"] = prob_higher_rank_glicko\n",
    "df_glicko_test.rename(columns={\"higher_rank_won\": \"actual\"}, inplace=True)\n",
    "df_glicko_test = make_predictions(df_glicko_test)\n",
    "validation_stats(df_glicko_test, model_name=\"Glicko Model\")"
   ]
  },
  {
   "cell_type": "code",
   "execution_count": 36,
   "metadata": {},
   "outputs": [
    {
     "name": "stdout",
     "output_type": "stream",
     "text": [
      "Glicko Model\n",
      " - Accuracy: 0.6448\n",
      " - Calibration: 0.7780\n",
      " - Log Loss: 0.6930\n",
      "--------------------------------------\n"
     ]
    },
    {
     "data": {
      "text/plain": [
       "{'accuracy': 0.6447937131630649,\n",
       " 'calibration': 0.7779892669128765,\n",
       " 'log_loss': 0.6929618021898953}"
      ]
     },
     "execution_count": 36,
     "metadata": {},
     "output_type": "execute_result"
    }
   ],
   "source": [
    "import math\n",
    "import datetime\n",
    "\n",
    "# Các hằng số trong mô hình Glicko\n",
    "Q = math.log(10) / 400  # Q = ln(10)/400\n",
    "INITIAL_RD = 350  # Giá trị RD ban đầu\n",
    "RD_DECAY_RATE = 0.05  # Tỷ lệ suy giảm RD theo thời gian\n",
    "\n",
    "def glicko_rating_update(rating, rd, opponent_ratings, scores, weights=None):\n",
    "    \"\"\"\n",
    "    Cập nhật xếp hạng và độ tin cậy (RD) cho một người chơi sau một loạt trận đấu.\n",
    "    \n",
    "    Args:\n",
    "        rating (float): Xếp hạng hiện tại của người chơi.\n",
    "        rd (float): Độ tin cậy hiện tại của người chơi.\n",
    "        opponent_ratings (list): Danh sách xếp hạng của các đối thủ.\n",
    "        scores (list): Danh sách kết quả trận đấu tương ứng (1 nếu thắng, 0 nếu thua).\n",
    "        weights (list, optional): Danh sách trọng số tương ứng cho các trận đấu (mặc định là None).\n",
    "    \n",
    "    Returns:\n",
    "        tuple: Cặp (xếp hạng mới, độ tin cậy mới) sau khi cập nhật.\n",
    "    \"\"\"\n",
    "    if weights is None:\n",
    "        weights = [1] * len(opponent_ratings)\n",
    "    \n",
    "    # Tính toán g(RD)\n",
    "    g_rd = 1 / math.sqrt(1 + 3 * (rd ** 2) / (math.pi ** 2))\n",
    "    \n",
    "    # Tính toán E(score) dựa trên xếp hạng hiện tại và xếp hạng đối thủ\n",
    "    expected_scores = [1 / (1 + 10 ** (-g_rd * (rating - opp_rating) / 400)) for opp_rating in opponent_ratings]\n",
    "    \n",
    "    # Cập nhật xếp hạng mới\n",
    "    new_rating = rating\n",
    "    for opp_rating, score, weight in zip(opponent_ratings, scores, weights):\n",
    "        new_rating += weight * g_rd * (score - 1 / (1 + 10 ** (-g_rd * (rating - opp_rating) / 400)))\n",
    "    \n",
    "    # Cập nhật độ tin cậy mới\n",
    "    sum_squared_weights = sum(w ** 2 for w in weights)\n",
    "    new_rd = math.sqrt(sum_squared_weights / (sum_squared_weights + math.pi ** 2 / 6 - sum_squared_weights / 4) * rd ** 2)\n",
    "    \n",
    "    return new_rating, new_rd\n",
    "\n",
    "def update_rd(rd, last_match_date, current_date):\n",
    "    \"\"\"\n",
    "    Cập nhật Rating Deviation (RD) dựa trên khoảng thời gian giữa trận đấu cuối cùng và trận đấu hiện tại.\n",
    "    \"\"\"\n",
    "    days_since_last_match = (current_date - last_match_date).days\n",
    "    return min(rd + RD_DECAY_RATE * days_since_last_match, 350)\n",
    "\n",
    "def implement_glicko(df):\n",
    "    glicko_ratings = {}\n",
    "    last_match_dates = {}\n",
    "    df_glicko = df.copy()\n",
    "\n",
    "    for index, row in df.iterrows():\n",
    "        winner = row[\"winner_name\"]\n",
    "        loser = row[\"loser_name\"]\n",
    "        winner_rating = glicko_ratings.get(winner, 1500)\n",
    "        loser_rating = glicko_ratings.get(loser, 1500)\n",
    "        winner_last_match_date = last_match_dates.get(winner, datetime.date(1970, 1, 1))\n",
    "        loser_last_match_date = last_match_dates.get(loser, datetime.date(1970, 1, 1))\n",
    "        current_date = row[\"tourney_date\"].date()\n",
    "\n",
    "        # Cập nhật RD cho người thắng và người thua\n",
    "        winner_rd = update_rd(INITIAL_RD, winner_last_match_date, current_date)\n",
    "        loser_rd = update_rd(INITIAL_RD, loser_last_match_date, current_date)\n",
    "\n",
    "        # Cập nhật xếp hạng và RD cho người thắng\n",
    "        new_winner_rating, new_winner_rd = glicko_rating_update(winner_rating, winner_rd, [loser_rating], [1])\n",
    "        glicko_ratings[winner] = new_winner_rating\n",
    "        last_match_dates[winner] = current_date\n",
    "\n",
    "        # Cập nhật xếp hạng và RD cho người thua\n",
    "        new_loser_rating, new_loser_rd = glicko_rating_update(loser_rating, loser_rd, [winner_rating], [0])\n",
    "        glicko_ratings[loser] = new_loser_rating\n",
    "        last_match_dates[loser] = current_date\n",
    "\n",
    "        df_glicko.at[index, \"glicko_prob\"] = 1 / (1 + 10 ** (-new_winner_rating / 400 + new_loser_rating / 400))\n",
    "\n",
    "    return df_glicko, glicko_ratings, last_match_dates\n",
    "\n",
    "# Áp dụng mô hình Glicko cho tập huấn luyện\n",
    "df_glicko_train, glicko_ratings, last_match_dates = implement_glicko(df_train)\n",
    "\n",
    "# Dự đoán xác suất cho tập kiểm tra\n",
    "prob_higher_rank_glicko = []\n",
    "\n",
    "# Cập nhật xếp hạng và độ tin cậy Glicko trong quá trình kiểm tra\n",
    "for i, row in df_test.iterrows():\n",
    "    winner = row[\"winner_name\"]\n",
    "    loser = row[\"loser_name\"]\n",
    "    winner_rating = glicko_ratings.get(winner, 1500)\n",
    "    loser_rating = glicko_ratings.get(loser, 1500)\n",
    "    winner_matches = df_train[df_train[\"winner_name\"] == winner].shape[0] + i\n",
    "    loser_matches = df_train[df_train[\"loser_name\"] == loser].shape[0] + i\n",
    "    current_date = row[\"tourney_date\"].date()\n",
    "\n",
    "    # Cập nhật RD cho người thắng và người thua\n",
    "    winner_last_match_date = last_match_dates.get(winner, datetime.date(1970, 1, 1))\n",
    "    loser_last_match_date = last_match_dates.get(loser, datetime.date(1970, 1, 1))\n",
    "    winner_rd = update_rd(INITIAL_RD, winner_last_match_date, current_date)\n",
    "    loser_rd = update_rd(INITIAL_RD, loser_last_match_date, current_date)\n",
    "\n",
    "    # Cập nhật xếp hạng và độ tin cậy cho người thắng\n",
    "    new_winner_rating, new_winner_rd = glicko_rating_update(winner_rating, winner_rd, [loser_rating], [1])\n",
    "    glicko_ratings[winner] = new_winner_rating\n",
    "\n",
    "    # Cập nhật xếp hạng và độ tin cậy cho người thua\n",
    "    new_loser_rating, new_loser_rd = glicko_rating_update(loser_rating, loser_rd, [winner_rating], [0])\n",
    "    glicko_ratings[loser] = new_loser_rating\n",
    "\n",
    "    # Cập nhật ngày diễn ra trận đấu cuối cùng cho người thắng và người thua\n",
    "    last_match_dates[winner] = current_date\n",
    "    last_match_dates[loser] = current_date\n",
    "\n",
    "    prob = 1 / (1 + 10 ** (-new_winner_rating / 400 + new_loser_rating / 400))\n",
    "    prob_higher_rank_glicko.append(prob if row[\"higher_rank_won\"] else 1 - prob)\n",
    "\n",
    "df_glicko_test = df_test.copy()\n",
    "df_glicko_test[\"prob\"] = prob_higher_rank_glicko\n",
    "df_glicko_test.rename(columns={\"higher_rank_won\": \"actual\"}, inplace=True)\n",
    "df_glicko_test = make_predictions(df_glicko_test)\n",
    "validation_stats(df_glicko_test, model_name=\"Glicko Model\")"
   ]
  }
 ],
 "metadata": {
  "kernelspec": {
   "display_name": "Python 3",
   "language": "python",
   "name": "python3"
  },
  "language_info": {
   "codemirror_mode": {
    "name": "ipython",
    "version": 3
   },
   "file_extension": ".py",
   "mimetype": "text/x-python",
   "name": "python",
   "nbconvert_exporter": "python",
   "pygments_lexer": "ipython3",
   "version": "3.10.0"
  },
  "orig_nbformat": 4
 },
 "nbformat": 4,
 "nbformat_minor": 2
}
