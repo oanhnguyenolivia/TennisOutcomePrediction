{
 "cells": [
  {
   "cell_type": "code",
   "execution_count": 330,
   "metadata": {},
   "outputs": [],
   "source": [
    "import pandas as pd\n",
    "import numpy as np\n",
    "import os\n",
    "from sklearn.linear_model import LogisticRegression\n",
    "import matplotlib.pyplot as plt\n",
    "\n",
    "from sklearn.metrics import log_loss, accuracy_score\n",
    "from skopt import gp_minimize\n",
    "from skopt.space import Real, Integer\n",
    "from skopt.utils import use_named_args\n",
    "\n",
    "def read_atp_data(years):\n",
    "    \"\"\"\n",
    "    Reads ATP matches data from CSV files for the specified years.\n",
    "\n",
    "    Args:\n",
    "        years (list or range): A list or range of years to read data for.\n",
    "\n",
    "    Returns:\n",
    "        pandas.DataFrame: A combined DataFrame containing all the data from the specified years.\n",
    "    \"\"\"\n",
    "    data = []\n",
    "    for year in years:\n",
    "        # Check for Excel file with .xls extension\n",
    "        xls_file_path = f\"{year}.xls\"\n",
    "        if os.path.exists(xls_file_path):\n",
    "            df = pd.read_excel(xls_file_path)\n",
    "            data.append(df)\n",
    "            continue\n",
    "\n",
    "        # Check for Excel file with .xlsx extension\n",
    "        xlsx_file_path = f\"{year}.xlsx\"\n",
    "        if os.path.exists(xlsx_file_path):\n",
    "            df = pd.read_excel(xlsx_file_path)\n",
    "            data.append(df)\n",
    "            continue\n",
    "\n",
    "        # If the file is not found\n",
    "        print(f\"File not found: {xls_file_path}, or {xlsx_file_path}\")\n",
    "\n",
    "    if data:\n",
    "        combined_data = pd.concat(data, ignore_index=True)\n",
    "        return combined_data\n",
    "    else:\n",
    "        return None"
   ]
  },
  {
   "cell_type": "code",
   "execution_count": 331,
   "metadata": {},
   "outputs": [],
   "source": [
    "def compute_point_difference(df):\n",
    "    df.rename(columns={\n",
    "        'Winner': 'winner_name',\n",
    "        'Loser': 'loser_name',\n",
    "        'WRank': 'winner_rank',\n",
    "        'LRank': 'loser_rank',\n",
    "        'WPts': 'winner_rank_points',\n",
    "        'LPts': 'loser_rank_points',\n",
    "        'Date': 'tourney_date'\n",
    "    }, inplace=True)\n",
    "    df[\"loser_rank\"] = df[\"loser_rank\"].fillna(100000)\n",
    "    df[\"winner_rank\"] = df[\"winner_rank\"].fillna(100000)\n",
    "\n",
    "    df[\"higher_rank_points\"] = np.where(df[\"winner_rank\"] < df[\"loser_rank\"], df[\"winner_rank_points\"], df[\"loser_rank_points\"])\n",
    "    df[\"lower_rank_points\"] = np.where(df[\"winner_rank\"] < df[\"loser_rank\"], df[\"loser_rank_points\"], df[\"winner_rank_points\"])\n",
    "    \n",
    "    df[\"point_difference\"] = df[\"higher_rank_points\"] - df[\"lower_rank_points\"]\n",
    "    df[\"higher_rank_won\"] = df[\"winner_rank\"] < df[\"loser_rank\"]\n",
    "    df.dropna(inplace=True, subset=[\"point_difference\"])\n",
    "    return df"
   ]
  },
  {
   "cell_type": "code",
   "execution_count": 332,
   "metadata": {},
   "outputs": [],
   "source": [
    "def accuracy(pred, actual):\n",
    "    return np.mean(pred == actual)\n",
    "\n",
    "def calibration(prob, actual):\n",
    "    return np.mean(prob) / np.mean(actual)\n",
    "\n",
    "def log_loss(prob, actual):\n",
    "    return -np.mean(actual * np.log(prob) + (1 - actual) * np.log(1 - prob))\n",
    "\n",
    "def validation_stats_calculate(df):\n",
    "    acc = accuracy(df[\"pred\"], df[\"actual\"])\n",
    "    calib = calibration(df[\"prob\"], df[\"actual\"])\n",
    "    ll = log_loss(df[\"prob\"], df[\"actual\"])\n",
    "    return {\"accuracy\": acc, \"calibration\": calib, \"log_loss\": ll}\n",
    "\n",
    "def validation_stats(df, model_name=None):\n",
    "    stats = validation_stats_calculate(df)\n",
    "    print(f\"{model_name}\")\n",
    "    print(f\" - Accuracy: {stats['accuracy']:.4f}\")\n",
    "    print(f\" - Calibration: {stats['calibration']:.4f}\")\n",
    "    print(f\" - Log Loss: {stats['log_loss']:.4f}\")\n",
    "    print(\"--------------------------------------\")\n",
    "    return stats\n",
    "\n",
    "def make_predictions(df):\n",
    "    df[\"pred\"] = df[\"prob\"] > 0.5\n",
    "    return df"
   ]
  },
  {
   "cell_type": "code",
   "execution_count": 333,
   "metadata": {},
   "outputs": [],
   "source": [
    "def get_elo_prob(elo1, elo2):\n",
    "    return 1 / (1 + 10 ** ((elo2 - elo1) / 400))"
   ]
  },
  {
   "cell_type": "code",
   "execution_count": 334,
   "metadata": {},
   "outputs": [],
   "source": [
    "def update_elo(winner_elo, loser_elo, k_func, winner_matches, loser_matches):\n",
    "    prob = get_elo_prob(winner_elo, loser_elo)\n",
    "    k_winner = k_func(winner_matches)\n",
    "    k_loser = k_func(loser_matches)\n",
    "    winner_elo += k_winner * (1 - prob)\n",
    "    loser_elo += k_loser * (0 - (1 - prob))\n",
    "    return winner_elo, loser_elo"
   ]
  },
  {
   "cell_type": "code",
   "execution_count": 335,
   "metadata": {},
   "outputs": [],
   "source": [
    "def implement_elo(df, k_func):\n",
    "    elo_ratings = {}\n",
    "    matches_played = {}\n",
    "    df_elo = df.copy()\n",
    "\n",
    "    for index, row in df.iterrows():\n",
    "        winner = row[\"winner_name\"]\n",
    "        loser = row[\"loser_name\"]\n",
    "        winner_elo = elo_ratings.get(winner, 1500)\n",
    "        loser_elo = elo_ratings.get(loser, 1500)\n",
    "        winner_matches = matches_played.get(winner, 0)\n",
    "        loser_matches = matches_played.get(loser, 0)\n",
    "\n",
    "        winner_new_elo, loser_new_elo = update_elo(winner_elo, loser_elo, k_func, winner_matches, loser_matches)\n",
    "\n",
    "        elo_ratings[winner] = winner_new_elo\n",
    "        elo_ratings[loser] = loser_new_elo\n",
    "        matches_played[winner] = winner_matches + 1\n",
    "        matches_played[loser] = loser_matches + 1\n",
    "\n",
    "        df_elo.at[index, \"elo_prob\"] = get_elo_prob(winner_new_elo, loser_new_elo)\n",
    "        df_elo.at[index, \"winner_elo_before_game\"] = winner_elo\n",
    "        df_elo.at[index, \"loser_elo_before_game\"] = loser_elo\n",
    "\n",
    "    return df_elo, elo_ratings"
   ]
  },
  {
   "cell_type": "code",
   "execution_count": 336,
   "metadata": {},
   "outputs": [],
   "source": [
    "def get_bcm_probabilities(df):\n",
    "    def implied_prob(row, bookie):\n",
    "        alpha_w = row[f\"{bookie}W\"]\n",
    "        beta_l = row[f\"{bookie}L\"]\n",
    "        return beta_l / (alpha_w + beta_l)\n",
    "    \n",
    "    bookmakers = [\"B365\", \"PS\"]\n",
    "    implied_probs_winner = []\n",
    "    implied_probs_loser = []\n",
    "    \n",
    "    for _, row in df.iterrows():\n",
    "        probs_winner = [implied_prob(row, bookie) for bookie in bookmakers]\n",
    "        probs_loser = [1 - prob for prob in probs_winner]\n",
    "        implied_probs_winner.append(probs_winner)\n",
    "        implied_probs_loser.append(probs_loser)\n",
    "    \n",
    "    df[\"implied_prob_winner\"] = np.mean(implied_probs_winner, axis=1)\n",
    "    df[\"implied_prob_loser\"] = np.mean(implied_probs_loser, axis=1)\n",
    "\n",
    "    df[\"implied_prob_winner_norm\"] = df[\"implied_prob_winner\"] / (df[\"implied_prob_winner\"] + df[\"implied_prob_loser\"])\n",
    "    df[\"implied_prob_loser_norm\"] = df[\"implied_prob_loser\"] / (df[\"implied_prob_winner\"] + df[\"implied_prob_loser\"])\n",
    "\n",
    "    df[\"bcm_prob\"] = df[\"implied_prob_winner_norm\"]\n",
    "    return df"
   ]
  },
  {
   "cell_type": "code",
   "execution_count": 337,
   "metadata": {},
   "outputs": [
    {
     "name": "stderr",
     "output_type": "stream",
     "text": [
      "/Users/oanh/.pyenv/versions/3.10.0/lib/python3.10/site-packages/openpyxl/worksheet/_reader.py:329: UserWarning: Unknown extension is not supported and will be removed\n",
      "  warn(msg)\n",
      "/Users/oanh/.pyenv/versions/3.10.0/lib/python3.10/site-packages/openpyxl/worksheet/_reader.py:329: UserWarning: Unknown extension is not supported and will be removed\n",
      "  warn(msg)\n",
      "/Users/oanh/.pyenv/versions/3.10.0/lib/python3.10/site-packages/openpyxl/worksheet/_reader.py:329: UserWarning: Unknown extension is not supported and will be removed\n",
      "  warn(msg)\n",
      "/Users/oanh/.pyenv/versions/3.10.0/lib/python3.10/site-packages/openpyxl/worksheet/_reader.py:329: UserWarning: Unknown extension is not supported and will be removed\n",
      "  warn(msg)\n"
     ]
    }
   ],
   "source": [
    "years = range(2013, 2023)  # range of years from 2013 to 2023\n",
    "df = read_atp_data(years)\n",
    "df = compute_point_difference(df)\n",
    "df[\"tourney_date\"] = pd.to_datetime(df[\"tourney_date\"], format='%Y%m%d')\n",
    "df_train = df[df[\"tourney_date\"].dt.year < 2022].copy().reset_index(drop=True)\n",
    "df_test = df[df[\"tourney_date\"].dt.year == 2022].copy().reset_index(drop=True)"
   ]
  },
  {
   "cell_type": "code",
   "execution_count": 338,
   "metadata": {},
   "outputs": [
    {
     "name": "stdout",
     "output_type": "stream",
     "text": [
      "Naive Model\n",
      " - Accuracy: 0.6403\n",
      " - Calibration: 1.0149\n",
      " - Log Loss: 0.6534\n",
      "--------------------------------------\n",
      "Logistic Regression\n",
      " - Accuracy: 0.6403\n",
      " - Calibration: 0.9521\n",
      " - Log Loss: 0.6436\n",
      "--------------------------------------\n"
     ]
    },
    {
     "data": {
      "text/plain": [
       "{'accuracy': 0.6403041825095057,\n",
       " 'calibration': 0.9521367378668969,\n",
       " 'log_loss': 0.6435733744277039}"
      ]
     },
     "execution_count": 338,
     "metadata": {},
     "output_type": "execute_result"
    }
   ],
   "source": [
    "# Naive Model\n",
    "naive_prob = df_train[\"higher_rank_won\"].mean()\n",
    "naive_prob_arr = np.repeat(naive_prob, df_test.shape[0])\n",
    "df_naive = pd.DataFrame({\"actual\": df_test[\"higher_rank_won\"], \"prob\": naive_prob_arr})\n",
    "df_naive = make_predictions(df_naive)\n",
    "validation_stats(df_naive, model_name=\"Naive Model\")\n",
    "\n",
    "# Logistic Regression Model\n",
    "X_train = df_train[[\"point_difference\"]]\n",
    "y_train = df_train[\"higher_rank_won\"]\n",
    "\n",
    "logistic_model = LogisticRegression(fit_intercept=False)\n",
    "logistic_model.fit(X_train, y_train)\n",
    "\n",
    "logistic_prob_arr = logistic_model.predict_proba(df_test[[\"point_difference\"]])[:, 1]\n",
    "df_logistic = pd.DataFrame({\"actual\": df_test[\"higher_rank_won\"], \"prob\": logistic_prob_arr})\n",
    "df_logistic = make_predictions(df_logistic)\n",
    "validation_stats(df_logistic, model_name=\"Logistic Regression\")"
   ]
  },
  {
   "cell_type": "code",
   "execution_count": 339,
   "metadata": {},
   "outputs": [
    {
     "name": "stdout",
     "output_type": "stream",
     "text": [
      "ELO Model (K-factor)\n",
      " - Accuracy: 0.6475\n",
      " - Calibration: 0.9989\n",
      " - Log Loss: 0.6207\n",
      "--------------------------------------\n"
     ]
    },
    {
     "data": {
      "text/plain": [
       "{'accuracy': 0.6475285171102662,\n",
       " 'calibration': 0.9989253348247547,\n",
       " 'log_loss': 0.6207141926449667}"
      ]
     },
     "execution_count": 339,
     "metadata": {},
     "output_type": "execute_result"
    }
   ],
   "source": [
    "def k_fixed(matches_played, k=32):\n",
    "    return k\n",
    "# ELO Model with fixed K-factor\n",
    "df_elo_train_fixed, elo_ratings_fixed = implement_elo(df_train, k_fixed)\n",
    "prob_higher_rank_fixed = []\n",
    "\n",
    "# Update Elo ratings dynamically during testing\n",
    "for i, row in df_test.iterrows():\n",
    "    winner = row[\"winner_name\"]\n",
    "    loser = row[\"loser_name\"]\n",
    "    winner_elo = elo_ratings_fixed.get(winner, 1500)\n",
    "    loser_elo = elo_ratings_fixed.get(loser, 1500)\n",
    "    winner_matches = df_train[df_train[\"winner_name\"] == winner].shape[0] + i\n",
    "    loser_matches = df_train[df_train[\"loser_name\"] == loser].shape[0] + i\n",
    "    prob = get_elo_prob(winner_elo, loser_elo)\n",
    "    prob_higher_rank_fixed.append(prob if row[\"higher_rank_won\"] else 1 - prob)\n",
    "    # Update Elo ratings based on the match result\n",
    "    winner_new_elo, loser_new_elo = update_elo(winner_elo, loser_elo, k_fixed, winner_matches, loser_matches)\n",
    "    elo_ratings_fixed[winner] = winner_new_elo\n",
    "    elo_ratings_fixed[loser] = loser_new_elo\n",
    "\n",
    "df_k_factor_test = df_test.copy()\n",
    "df_k_factor_test[\"prob\"] = prob_higher_rank_fixed\n",
    "df_k_factor_test.rename(columns={\"higher_rank_won\": \"actual\"}, inplace=True)\n",
    "df_k_factor_test = make_predictions(df_k_factor_test)\n",
    "validation_stats(df_k_factor_test, model_name=\"ELO Model (K-factor)\")"
   ]
  },
  {
   "cell_type": "code",
   "execution_count": 340,
   "metadata": {},
   "outputs": [
    {
     "name": "stdout",
     "output_type": "stream",
     "text": [
      "Best score=0.6490\n",
      "Best parameter: k=39.79\n"
     ]
    }
   ],
   "source": [
    "# Define the search space for hyperparameters\n",
    "space  = [\n",
    "    Real(1, 50, name='k')\n",
    "]\n",
    "\n",
    "@use_named_args(space)\n",
    "def objective(k):\n",
    "    def k_fixed(matches_played, k=k):\n",
    "        return k\n",
    "\n",
    "    df_elo_train, elo_ratings = implement_elo(df_train, k_fixed)\n",
    "    prob_higher_rank = []\n",
    "\n",
    "    for i, row in df_test.iterrows():\n",
    "        winner = row[\"winner_name\"]\n",
    "        loser = row[\"loser_name\"]\n",
    "        winner_elo = elo_ratings.get(winner, 1500)\n",
    "        loser_elo = elo_ratings.get(loser, 1500)\n",
    "        winner_matches = df_train[df_train[\"winner_name\"] == winner].shape[0] + i\n",
    "        loser_matches = df_train[df_train[\"loser_name\"] == loser].shape[0] + i\n",
    "        prob = get_elo_prob(winner_elo, loser_elo)\n",
    "        prob_higher_rank.append(prob if row[\"higher_rank_won\"] else 1 - prob)\n",
    "        winner_new_elo, loser_new_elo = update_elo(winner_elo, loser_elo, k_fixed, winner_matches, loser_matches)\n",
    "        elo_ratings[winner] = winner_new_elo\n",
    "        elo_ratings[loser] = loser_new_elo\n",
    "\n",
    "    df_test_copy = df_test.copy()\n",
    "    df_test_copy[\"prob\"] = prob_higher_rank\n",
    "    df_test_copy.rename(columns={\"higher_rank_won\": \"actual\"}, inplace=True)\n",
    "    df_test_copy = make_predictions(df_test_copy)\n",
    "    \n",
    "    acc = accuracy_score(df_test_copy[\"actual\"], df_test_copy[\"pred\"])\n",
    "    \n",
    "    return -acc  # Minimize the negative accuracy\n",
    "\n",
    "# Perform Bayesian optimization\n",
    "res_gp = gp_minimize(objective, space, n_calls=50, random_state=0)\n",
    "\n",
    "print(\"Best score=%.4f\" % -res_gp.fun)\n",
    "print(\"Best parameter: k=%.2f\" % res_gp.x[0])"
   ]
  },
  {
   "cell_type": "code",
   "execution_count": 341,
   "metadata": {},
   "outputs": [
    {
     "name": "stdout",
     "output_type": "stream",
     "text": [
      "ELO Model (K-factor)\n",
      " - Accuracy: 0.6490\n",
      " - Calibration: 1.0075\n",
      " - Log Loss: 0.6230\n",
      "--------------------------------------\n"
     ]
    },
    {
     "data": {
      "text/plain": [
       "{'accuracy': 0.6490494296577947,\n",
       " 'calibration': 1.0075482502088122,\n",
       " 'log_loss': 0.6229596198619558}"
      ]
     },
     "execution_count": 341,
     "metadata": {},
     "output_type": "execute_result"
    }
   ],
   "source": [
    "def k_fixed(matches_played, k=39.79):\n",
    "    return k\n",
    "# ELO Model with fixed K-factor\n",
    "df_elo_train_fixed, elo_ratings_fixed = implement_elo(df_train, k_fixed)\n",
    "prob_higher_rank_fixed = []\n",
    "\n",
    "# Update Elo ratings dynamically during testing\n",
    "for i, row in df_test.iterrows():\n",
    "    winner = row[\"winner_name\"]\n",
    "    loser = row[\"loser_name\"]\n",
    "    winner_elo = elo_ratings_fixed.get(winner, 1500)\n",
    "    loser_elo = elo_ratings_fixed.get(loser, 1500)\n",
    "    winner_matches = df_train[df_train[\"winner_name\"] == winner].shape[0] + i\n",
    "    loser_matches = df_train[df_train[\"loser_name\"] == loser].shape[0] + i\n",
    "    prob = get_elo_prob(winner_elo, loser_elo)\n",
    "    prob_higher_rank_fixed.append(prob if row[\"higher_rank_won\"] else 1 - prob)\n",
    "    # Update Elo ratings based on the match result\n",
    "    winner_new_elo, loser_new_elo = update_elo(winner_elo, loser_elo, k_fixed, winner_matches, loser_matches)\n",
    "    elo_ratings_fixed[winner] = winner_new_elo\n",
    "    elo_ratings_fixed[loser] = loser_new_elo\n",
    "\n",
    "df_k_factor_test = df_test.copy()\n",
    "df_k_factor_test[\"prob\"] = prob_higher_rank_fixed\n",
    "df_k_factor_test.rename(columns={\"higher_rank_won\": \"actual\"}, inplace=True)\n",
    "df_k_factor_test = make_predictions(df_k_factor_test)\n",
    "validation_stats(df_k_factor_test, model_name=\"ELO Model (K-factor)\")"
   ]
  },
  {
   "cell_type": "code",
   "execution_count": 342,
   "metadata": {},
   "outputs": [
    {
     "name": "stdout",
     "output_type": "stream",
     "text": [
      "ELO Model (k_538)\n",
      " - Accuracy: 0.6437\n",
      " - Calibration: 1.0273\n",
      " - Log Loss: 0.6316\n",
      "--------------------------------------\n"
     ]
    },
    {
     "data": {
      "text/plain": [
       "{'accuracy': 0.6437262357414448,\n",
       " 'calibration': 1.027319644671668,\n",
       " 'log_loss': 0.6316249946688542}"
      ]
     },
     "execution_count": 342,
     "metadata": {},
     "output_type": "execute_result"
    }
   ],
   "source": [
    "def k_538(matches_played, delta=100, nu=5, sigma=0.1):\n",
    "    return delta / (matches_played + nu) ** sigma\n",
    "# ELO Model with k_538\n",
    "df_elo_train_538, elo_ratings_538 = implement_elo(df_train, k_538)\n",
    "prob_higher_rank_538 = []\n",
    "\n",
    "# Update Elo ratings dynamically during testing\n",
    "for i, row in df_test.iterrows():\n",
    "    winner = row[\"winner_name\"]\n",
    "    loser = row[\"loser_name\"]\n",
    "    winner_elo = elo_ratings_538.get(winner, 1500)\n",
    "    loser_elo = elo_ratings_538.get(loser, 1500)\n",
    "    winner_matches = df_train[df_train[\"winner_name\"] == winner].shape[0] + i\n",
    "    loser_matches = df_train[df_train[\"loser_name\"] == loser].shape[0] + i\n",
    "    prob = get_elo_prob(winner_elo, loser_elo)\n",
    "    prob_higher_rank_538.append(prob if row[\"higher_rank_won\"] else 1 - prob)\n",
    "    # Update Elo ratings based on the match result\n",
    "    winner_new_elo, loser_new_elo = update_elo(winner_elo, loser_elo, k_538, winner_matches, loser_matches)\n",
    "    elo_ratings_538[winner] = winner_new_elo\n",
    "    elo_ratings_538[loser] = loser_new_elo\n",
    "\n",
    "df_538_test = df_test.copy()\n",
    "df_538_test[\"prob\"] = prob_higher_rank_538\n",
    "df_538_test.rename(columns={\"higher_rank_won\": \"actual\"}, inplace=True)\n",
    "df_538_test = make_predictions(df_538_test)\n",
    "validation_stats(df_538_test, model_name=\"ELO Model (k_538)\")"
   ]
  },
  {
   "cell_type": "code",
   "execution_count": 343,
   "metadata": {},
   "outputs": [
    {
     "name": "stdout",
     "output_type": "stream",
     "text": [
      "Best score=0.6445\n",
      "Best parameters: delta=355, nu=5, sigma=0.38\n"
     ]
    }
   ],
   "source": [
    "\n",
    "# Define the search space for hyperparameters\n",
    "space  = [\n",
    "    Integer(100, 500, name='delta'),\n",
    "    Integer(5, 50, name='nu'),\n",
    "    Real(0.1, 1.0, name='sigma')\n",
    "]\n",
    "\n",
    "@use_named_args(space)\n",
    "def objective(delta, nu, sigma):\n",
    "    def k_538(matches_played, delta=delta, nu=nu, sigma=sigma):\n",
    "        return delta / (matches_played + nu) ** sigma\n",
    "    \n",
    "    df_elo_train, elo_ratings = implement_elo(df_train, k_538)\n",
    "    prob_higher_rank = []\n",
    "\n",
    "    for i, row in df_test.iterrows():\n",
    "        winner = row[\"winner_name\"]\n",
    "        loser = row[\"loser_name\"]\n",
    "        winner_elo = elo_ratings.get(winner, 1500)\n",
    "        loser_elo = elo_ratings.get(loser, 1500)\n",
    "        winner_matches = df_train[df_train[\"winner_name\"] == winner].shape[0] + i\n",
    "        loser_matches = df_train[df_train[\"loser_name\"] == loser].shape[0] + i\n",
    "        prob = get_elo_prob(winner_elo, loser_elo)\n",
    "        prob_higher_rank.append(prob if row[\"higher_rank_won\"] else 1 - prob)\n",
    "        winner_new_elo, loser_new_elo = update_elo(winner_elo, loser_elo, k_538, winner_matches, loser_matches)\n",
    "        elo_ratings[winner] = winner_new_elo\n",
    "        elo_ratings[loser] = loser_new_elo\n",
    "\n",
    "    df_test_copy = df_test.copy()\n",
    "    df_test_copy[\"prob\"] = prob_higher_rank\n",
    "    df_test_copy.rename(columns={\"higher_rank_won\": \"actual\"}, inplace=True)\n",
    "    df_test_copy = make_predictions(df_test_copy)\n",
    "    \n",
    "    acc = accuracy_score(df_test_copy[\"actual\"], df_test_copy[\"pred\"])\n",
    "    \n",
    "    return -acc  # Minimize the negative accuracy\n",
    "\n",
    "# Perform Bayesian optimization\n",
    "res_gp = gp_minimize(objective, space, n_calls=50, random_state=0)\n",
    "\n",
    "print(\"Best score=%.4f\" % -res_gp.fun)\n",
    "print(\"Best parameters: delta=%d, nu=%d, sigma=%.2f\" % (res_gp.x[0], res_gp.x[1], res_gp.x[2]))"
   ]
  },
  {
   "cell_type": "code",
   "execution_count": 344,
   "metadata": {},
   "outputs": [
    {
     "name": "stdout",
     "output_type": "stream",
     "text": [
      "ELO Model (k_538)\n",
      " - Accuracy: 0.6441\n",
      " - Calibration: 1.0414\n",
      " - Log Loss: 0.6402\n",
      "--------------------------------------\n"
     ]
    },
    {
     "data": {
      "text/plain": [
       "{'accuracy': 0.644106463878327,\n",
       " 'calibration': 1.0413885922607116,\n",
       " 'log_loss': 0.6402336351325638}"
      ]
     },
     "execution_count": 344,
     "metadata": {},
     "output_type": "execute_result"
    }
   ],
   "source": [
    "def k_538(matches_played, delta=355, nu=5, sigma=0.38):\n",
    "    return delta / (matches_played + nu) ** sigma\n",
    "# ELO Model with k_538\n",
    "df_elo_train_538, elo_ratings_538 = implement_elo(df_train, k_538)\n",
    "prob_higher_rank_538 = []\n",
    "\n",
    "# Update Elo ratings dynamically during testing\n",
    "for i, row in df_test.iterrows():\n",
    "    winner = row[\"winner_name\"]\n",
    "    loser = row[\"loser_name\"]\n",
    "    winner_elo = elo_ratings_538.get(winner, 1500)\n",
    "    loser_elo = elo_ratings_538.get(loser, 1500)\n",
    "    winner_matches = df_train[df_train[\"winner_name\"] == winner].shape[0] + i\n",
    "    loser_matches = df_train[df_train[\"loser_name\"] == loser].shape[0] + i\n",
    "    prob = get_elo_prob(winner_elo, loser_elo)\n",
    "    prob_higher_rank_538.append(prob if row[\"higher_rank_won\"] else 1 - prob)\n",
    "    # Update Elo ratings based on the match result\n",
    "    winner_new_elo, loser_new_elo = update_elo(winner_elo, loser_elo, k_538, winner_matches, loser_matches)\n",
    "    elo_ratings_538[winner] = winner_new_elo\n",
    "    elo_ratings_538[loser] = loser_new_elo\n",
    "\n",
    "df_538_test = df_test.copy()\n",
    "df_538_test[\"prob\"] = prob_higher_rank_538\n",
    "df_538_test.rename(columns={\"higher_rank_won\": \"actual\"}, inplace=True)\n",
    "df_538_test = make_predictions(df_538_test)\n",
    "validation_stats(df_538_test, model_name=\"ELO Model (k_538)\")"
   ]
  },
  {
   "cell_type": "code",
   "execution_count": 345,
   "metadata": {},
   "outputs": [
    {
     "name": "stdout",
     "output_type": "stream",
     "text": [
      "Bookmakers Consensus Model (BCM)\n",
      " - Accuracy: 0.7943\n",
      " - Calibration: 0.9301\n",
      " - Log Loss: 0.4900\n",
      "--------------------------------------\n"
     ]
    },
    {
     "data": {
      "text/plain": [
       "{'accuracy': 0.7942965779467681,\n",
       " 'calibration': 0.930104931592965,\n",
       " 'log_loss': 0.49002812353555386}"
      ]
     },
     "execution_count": 345,
     "metadata": {},
     "output_type": "execute_result"
    }
   ],
   "source": [
    "# Implement BCM model on test data\n",
    "df_test = get_bcm_probabilities(df_test)\n",
    "\n",
    "df_bcm = df_test.copy()\n",
    "df_bcm.rename(columns={\"higher_rank_won\": \"actual\"}, inplace=True)\n",
    "df_bcm[\"prob\"] = df_bcm[\"bcm_prob\"]\n",
    "df_bcm = make_predictions(df_bcm)\n",
    "validation_stats(df_bcm, model_name=\"Bookmakers Consensus Model (BCM)\")"
   ]
  },
  {
   "cell_type": "code",
   "execution_count": 346,
   "metadata": {},
   "outputs": [
    {
     "data": {
      "image/png": "[encoded data removed]",
      "text/plain": [
       "<Figure size 1000x600 with 1 Axes>"
      ]
     },
     "metadata": {},
     "output_type": "display_data"
    }
   ],
   "source": [
    "def get_individual_data(df, player_name):\n",
    "    player_mask = (df[\"winner_name\"] == player_name) | (df[\"loser_name\"] == player_name)\n",
    "    df_player = df[player_mask].copy()\n",
    "    player_won = df_player[\"winner_name\"] == player_name\n",
    "\n",
    "    df_player[\"elo_before_game\"] = np.where(player_won, df_player[\"winner_elo_before_game\"], df_player[\"loser_elo_before_game\"])\n",
    "    df_player = df_player.sort_values(\"tourney_date\")\n",
    "    return df_player\n",
    "\n",
    "def plot_elo_scores(player_name, df_player_k_factor, df_player_538):\n",
    "    plt.figure(figsize=(10, 6))\n",
    "    plt.plot(df_player_k_factor[\"tourney_date\"], df_player_k_factor[\"elo_before_game\"], label=\"K-Factor Elo\")\n",
    "    plt.plot(df_player_538[\"tourney_date\"], df_player_538[\"elo_before_game\"], label=\"538 Elo\")\n",
    "    plt.title(f\"Elo Scores for {player_name}\")\n",
    "    plt.xlabel(\"Date\")\n",
    "    plt.ylabel(\"Elo Score\")\n",
    "    plt.legend()\n",
    "    plt.grid(True)\n",
    "    plt.show()\n",
    "\n",
    "player_name = \"Djokovic N.\"\n",
    "df_player_k_factor = get_individual_data(df_elo_train_fixed, player_name)\n",
    "df_player_538 = get_individual_data(df_elo_train_538, player_name)\n",
    "\n",
    "plot_elo_scores(player_name, df_player_k_factor, df_player_538)"
   ]
  }
 ],
 "metadata": {
  "kernelspec": {
   "display_name": "Python 3",
   "language": "python",
   "name": "python3"
  },
  "language_info": {
   "codemirror_mode": {
    "name": "ipython",
    "version": 3
   },
   "file_extension": ".py",
   "mimetype": "text/x-python",
   "name": "python",
   "nbconvert_exporter": "python",
   "pygments_lexer": "ipython3",
   "version": "3.10.0"
  },
  "orig_nbformat": 4
 },
 "nbformat": 4,
 "nbformat_minor": 2
}
